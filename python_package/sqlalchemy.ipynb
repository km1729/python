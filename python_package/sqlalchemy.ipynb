{
 "cells": [
  {
   "cell_type": "markdown",
   "metadata": {},
   "source": [
    "This document is following the SQLAlchemy 1.4 Document Object Relational Tutorial  \n",
    "https://docs.sqlalchemy.org/en/14/orm/tutorial.html#version-check\n"
   ]
  },
  {
   "cell_type": "markdown",
   "metadata": {},
   "source": [
    "# Settings"
   ]
  },
  {
   "cell_type": "code",
   "execution_count": 145,
   "metadata": {},
   "outputs": [],
   "source": [
    "# Connecting\n",
    "\n",
    "from sqlalchemy import create_engine\n",
    "engine = create_engine('sqlite:///orm_test4.db', echo=True)"
   ]
  },
  {
   "cell_type": "code",
   "execution_count": 146,
   "metadata": {},
   "outputs": [],
   "source": [
    "# Declare a Mapping\n",
    "\n",
    "from sqlalchemy.ext.declarative import declarative_base\n",
    "Base = declarative_base()"
   ]
  },
  {
   "cell_type": "code",
   "execution_count": 147,
   "metadata": {},
   "outputs": [],
   "source": [
    "# Create a Schema\n",
    "\n",
    "from sqlalchemy import Column, Integer, String, DateTime\n",
    "class User(Base):\n",
    "    __tablename__ = 'users'\n",
    "    id = Column(Integer, primary_key=True)\n",
    "    name = Column(String)\n",
    "    fullname = Column(String)\n",
    "    nickname = Column(String)\n",
    "    date = Column(DateTime)\n",
    "    def __repr__(self):\n",
    "       return \"<User(name='%s', fullname='%s', nickname='%s',date='%s')>\" % (\n",
    "                            self.name, self.fullname, self.nickname, self.date)"
   ]
  },
  {
   "cell_type": "code",
   "execution_count": 148,
   "metadata": {},
   "outputs": [
    {
     "data": {
      "text/plain": [
       "Column(None, Integer(), table=None, primary_key=True, nullable=False, default=Sequence('user_id_seq'))"
      ]
     },
     "execution_count": 148,
     "metadata": {},
     "output_type": "execute_result"
    }
   ],
   "source": [
    "from sqlalchemy import Sequence\n",
    "Column(Integer, Sequence('user_id_seq'), primary_key=True)"
   ]
  },
  {
   "cell_type": "code",
   "execution_count": 149,
   "metadata": {},
   "outputs": [
    {
     "name": "stdout",
     "output_type": "stream",
     "text": [
      "2022-07-05 11:39:56,536 INFO sqlalchemy.engine.Engine BEGIN (implicit)\n",
      "2022-07-05 11:39:56,537 INFO sqlalchemy.engine.Engine PRAGMA main.table_info(\"users\")\n",
      "2022-07-05 11:39:56,537 INFO sqlalchemy.engine.Engine [raw sql] ()\n",
      "2022-07-05 11:39:56,538 INFO sqlalchemy.engine.Engine PRAGMA temp.table_info(\"users\")\n",
      "2022-07-05 11:39:56,539 INFO sqlalchemy.engine.Engine [raw sql] ()\n",
      "2022-07-05 11:39:56,541 INFO sqlalchemy.engine.Engine \n",
      "CREATE TABLE users (\n",
      "\tid INTEGER NOT NULL, \n",
      "\tname VARCHAR, \n",
      "\tfullname VARCHAR, \n",
      "\tnickname VARCHAR, \n",
      "\tdate DATETIME, \n",
      "\tPRIMARY KEY (id)\n",
      ")\n",
      "\n",
      "\n",
      "2022-07-05 11:39:56,542 INFO sqlalchemy.engine.Engine [no key 0.00090s] ()\n",
      "2022-07-05 11:39:56,571 INFO sqlalchemy.engine.Engine COMMIT\n"
     ]
    }
   ],
   "source": [
    "Base.metadata.create_all(engine)"
   ]
  },
  {
   "cell_type": "code",
   "execution_count": 150,
   "metadata": {},
   "outputs": [],
   "source": [
    "from datetime import datetime\n",
    "now = datetime.now()"
   ]
  },
  {
   "cell_type": "code",
   "execution_count": 151,
   "metadata": {},
   "outputs": [
    {
     "name": "stdout",
     "output_type": "stream",
     "text": [
      "<User(name='ed', fullname='Ed Jones', nickname='edsnickname',date='2022-07-05 11:39:56.675644')>\n",
      "ed\n",
      "Ed Jones\n",
      "edsnickname\n",
      "None\n"
     ]
    }
   ],
   "source": [
    "# Create an instance of the mapped Class\n",
    "\n",
    "ed_user = User(name='ed', fullname='Ed Jones', nickname='edsnickname', date=now)\n",
    "print(ed_user)\n",
    "print(ed_user.name)\n",
    "print(ed_user.fullname)\n",
    "print(ed_user.nickname)\n",
    "print(str(ed_user.id))"
   ]
  },
  {
   "cell_type": "markdown",
   "metadata": {},
   "source": [
    "# Creating a Session"
   ]
  },
  {
   "cell_type": "code",
   "execution_count": 152,
   "metadata": {},
   "outputs": [],
   "source": [
    "from sqlalchemy.orm import sessionmaker\n",
    "\n",
    "session_maker = sessionmaker(bind=engine)\n",
    "session = session_maker()"
   ]
  },
  {
   "cell_type": "code",
   "execution_count": 153,
   "metadata": {},
   "outputs": [
    {
     "name": "stdout",
     "output_type": "stream",
     "text": [
      "<User(name='ed', fullname='Ed Jones', nickname='edsnickname',date='2022-07-05 11:39:56.675644')>\n"
     ]
    },
    {
     "data": {
      "text/plain": [
       "False"
      ]
     },
     "execution_count": 153,
     "metadata": {},
     "output_type": "execute_result"
    }
   ],
   "source": [
    "session.add(ed_user)\n",
    "print(ed_user)\n",
    "ed_user in session.dirty"
   ]
  },
  {
   "cell_type": "code",
   "execution_count": 154,
   "metadata": {},
   "outputs": [
    {
     "name": "stdout",
     "output_type": "stream",
     "text": [
      "2022-07-05 11:39:56,940 INFO sqlalchemy.engine.Engine BEGIN (implicit)\n",
      "2022-07-05 11:39:56,942 INFO sqlalchemy.engine.Engine INSERT INTO users (name, fullname, nickname, date) VALUES (?, ?, ?, ?)\n",
      "2022-07-05 11:39:56,942 INFO sqlalchemy.engine.Engine [generated in 0.00070s] ('ed', 'Ed Jones', 'edsnickname', '2022-07-05 11:39:56.675644')\n",
      "2022-07-05 11:39:56,949 INFO sqlalchemy.engine.Engine COMMIT\n"
     ]
    }
   ],
   "source": [
    "session.commit()"
   ]
  },
  {
   "cell_type": "code",
   "execution_count": 155,
   "metadata": {},
   "outputs": [],
   "source": [
    "# https://docs.sqlalchemy.org/en/14/orm/session_api.html#session-and-sessionmaker"
   ]
  },
  {
   "cell_type": "markdown",
   "metadata": {},
   "source": [
    "# Adding data"
   ]
  },
  {
   "cell_type": "code",
   "execution_count": 156,
   "metadata": {},
   "outputs": [
    {
     "name": "stdout",
     "output_type": "stream",
     "text": [
      "2022-07-05 11:39:57,070 INFO sqlalchemy.engine.Engine BEGIN (implicit)\n",
      "2022-07-05 11:39:57,071 INFO sqlalchemy.engine.Engine INSERT INTO users (name, fullname, nickname, date) VALUES (?, ?, ?, ?)\n",
      "2022-07-05 11:39:57,071 INFO sqlalchemy.engine.Engine [cached since 0.1301s ago] ('wendy', 'Wendy Williams', 'windy', '2022-07-05 11:39:56.675644')\n",
      "2022-07-05 11:39:57,073 INFO sqlalchemy.engine.Engine INSERT INTO users (name, fullname, nickname, date) VALUES (?, ?, ?, ?)\n",
      "2022-07-05 11:39:57,075 INFO sqlalchemy.engine.Engine [cached since 0.1329s ago] ('mary', 'Mary Contrary', 'mary', '2022-07-05 11:39:56.675644')\n",
      "2022-07-05 11:39:57,075 INFO sqlalchemy.engine.Engine INSERT INTO users (name, fullname, nickname, date) VALUES (?, ?, ?, ?)\n",
      "2022-07-05 11:39:57,076 INFO sqlalchemy.engine.Engine [cached since 0.1345s ago] ('fred', 'Fred Flintstone', 'freddy', '2022-07-05 11:39:56.675644')\n",
      "2022-07-05 11:39:57,076 INFO sqlalchemy.engine.Engine COMMIT\n"
     ]
    }
   ],
   "source": [
    "session.add_all([\n",
    "    User(name='wendy', fullname='Wendy Williams', nickname='windy',date=now),\n",
    "    User(name='mary', fullname='Mary Contrary', nickname='mary', date=now),\n",
    "    User(name='fred', fullname='Fred Flintstone', nickname='freddy', date=now)])\n",
    "\n",
    "session.commit()"
   ]
  },
  {
   "cell_type": "code",
   "execution_count": 157,
   "metadata": {},
   "outputs": [
    {
     "data": {
      "text/plain": [
       "IdentitySet([])"
      ]
     },
     "execution_count": 157,
     "metadata": {},
     "output_type": "execute_result"
    }
   ],
   "source": [
    "session.new"
   ]
  },
  {
   "cell_type": "markdown",
   "metadata": {},
   "source": [
    "# Query  "
   ]
  },
  {
   "cell_type": "code",
   "execution_count": 158,
   "metadata": {},
   "outputs": [],
   "source": [
    "from sqlalchemy import select"
   ]
  },
  {
   "cell_type": "markdown",
   "metadata": {},
   "source": [
    "select vs execute(select)"
   ]
  },
  {
   "cell_type": "code",
   "execution_count": 159,
   "metadata": {},
   "outputs": [
    {
     "name": "stdout",
     "output_type": "stream",
     "text": [
      "SELECT users.id AS users_id, users.name AS users_name, users.fullname AS users_fullname, users.nickname AS users_nickname, users.date AS users_date \n",
      "FROM users\n",
      "<class 'sqlalchemy.orm.query.Query'>\n"
     ]
    }
   ],
   "source": [
    "query_all = session.query(User)\n",
    "print(query_all)\n",
    "print(type(query_all))"
   ]
  },
  {
   "cell_type": "code",
   "execution_count": 160,
   "metadata": {},
   "outputs": [
    {
     "name": "stdout",
     "output_type": "stream",
     "text": [
      "2022-07-05 11:39:57,334 INFO sqlalchemy.engine.Engine BEGIN (implicit)\n",
      "2022-07-05 11:39:57,335 INFO sqlalchemy.engine.Engine SELECT users.id, users.name, users.fullname, users.nickname, users.date \n",
      "FROM users\n",
      "2022-07-05 11:39:57,335 INFO sqlalchemy.engine.Engine [generated in 0.00040s] ()\n",
      "<sqlalchemy.engine.result.ChunkedIteratorResult object at 0x0000021354637D90>\n",
      "<class 'sqlalchemy.engine.result.ChunkedIteratorResult'>\n"
     ]
    }
   ],
   "source": [
    "query_exe = session.execute(select(User))\n",
    "print(query_exe)\n",
    "print(type(query_exe))"
   ]
  },
  {
   "cell_type": "code",
   "execution_count": 161,
   "metadata": {},
   "outputs": [
    {
     "name": "stdout",
     "output_type": "stream",
     "text": [
      "2022-07-05 11:39:57,397 INFO sqlalchemy.engine.Engine SELECT users.id AS users_id, users.name AS users_name, users.fullname AS users_fullname, users.nickname AS users_nickname, users.date AS users_date \n",
      "FROM users\n",
      "2022-07-05 11:39:57,398 INFO sqlalchemy.engine.Engine [generated in 0.00054s] ()\n",
      "<User(name='ed', fullname='Ed Jones', nickname='edsnickname',date='2022-07-05 11:39:56.675644')>\n",
      "<User(name='wendy', fullname='Wendy Williams', nickname='windy',date='2022-07-05 11:39:56.675644')>\n",
      "<User(name='mary', fullname='Mary Contrary', nickname='mary',date='2022-07-05 11:39:56.675644')>\n",
      "<User(name='fred', fullname='Fred Flintstone', nickname='freddy',date='2022-07-05 11:39:56.675644')>\n"
     ]
    }
   ],
   "source": [
    "for i in query_all:\n",
    "    print(i)"
   ]
  },
  {
   "cell_type": "code",
   "execution_count": 162,
   "metadata": {},
   "outputs": [
    {
     "name": "stdout",
     "output_type": "stream",
     "text": [
      "(<User(name='ed', fullname='Ed Jones', nickname='edsnickname',date='2022-07-05 11:39:56.675644')>,)\n",
      "(<User(name='wendy', fullname='Wendy Williams', nickname='windy',date='2022-07-05 11:39:56.675644')>,)\n",
      "(<User(name='mary', fullname='Mary Contrary', nickname='mary',date='2022-07-05 11:39:56.675644')>,)\n",
      "(<User(name='fred', fullname='Fred Flintstone', nickname='freddy',date='2022-07-05 11:39:56.675644')>,)\n"
     ]
    }
   ],
   "source": [
    "for i in query_exe:\n",
    "    print(i)"
   ]
  },
  {
   "cell_type": "code",
   "execution_count": 163,
   "metadata": {},
   "outputs": [
    {
     "name": "stdout",
     "output_type": "stream",
     "text": [
      "2022-07-05 11:39:57,517 INFO sqlalchemy.engine.Engine ROLLBACK\n"
     ]
    }
   ],
   "source": [
    "session.close()"
   ]
  },
  {
   "cell_type": "code",
   "execution_count": 164,
   "metadata": {},
   "outputs": [
    {
     "name": "stdout",
     "output_type": "stream",
     "text": [
      "2022-07-05 11:39:57,572 INFO sqlalchemy.engine.Engine BEGIN (implicit)\n",
      "2022-07-05 11:39:57,573 INFO sqlalchemy.engine.Engine SELECT users.id AS users_id, users.name AS users_name, users.fullname AS users_fullname, users.nickname AS users_nickname, users.date AS users_date \n",
      "FROM users\n",
      "2022-07-05 11:39:57,573 INFO sqlalchemy.engine.Engine [cached since 0.176s ago] ()\n",
      "<User(name='ed', fullname='Ed Jones', nickname='edsnickname',date='2022-07-05 11:39:56.675644')>\n",
      "<User(name='wendy', fullname='Wendy Williams', nickname='windy',date='2022-07-05 11:39:56.675644')>\n",
      "<User(name='mary', fullname='Mary Contrary', nickname='mary',date='2022-07-05 11:39:56.675644')>\n",
      "<User(name='fred', fullname='Fred Flintstone', nickname='freddy',date='2022-07-05 11:39:56.675644')>\n"
     ]
    }
   ],
   "source": [
    "for instance in session.query(User):\n",
    "    print(instance)"
   ]
  },
  {
   "cell_type": "code",
   "execution_count": 165,
   "metadata": {},
   "outputs": [
    {
     "name": "stdout",
     "output_type": "stream",
     "text": [
      "2022-07-05 11:39:57,635 INFO sqlalchemy.engine.Engine SELECT users.id, users.name, users.fullname, users.nickname, users.date \n",
      "FROM users\n",
      "2022-07-05 11:39:57,636 INFO sqlalchemy.engine.Engine [cached since 0.3009s ago] ()\n",
      "(<User(name='ed', fullname='Ed Jones', nickname='edsnickname',date='2022-07-05 11:39:56.675644')>,)\n",
      "(<User(name='wendy', fullname='Wendy Williams', nickname='windy',date='2022-07-05 11:39:56.675644')>,)\n",
      "(<User(name='mary', fullname='Mary Contrary', nickname='mary',date='2022-07-05 11:39:56.675644')>,)\n",
      "(<User(name='fred', fullname='Fred Flintstone', nickname='freddy',date='2022-07-05 11:39:56.675644')>,)\n"
     ]
    }
   ],
   "source": [
    "for instance in session.execute(select(User)):\n",
    "    print(instance)"
   ]
  },
  {
   "cell_type": "code",
   "execution_count": 166,
   "metadata": {},
   "outputs": [
    {
     "name": "stdout",
     "output_type": "stream",
     "text": [
      "2022-07-05 11:39:57,694 INFO sqlalchemy.engine.Engine SELECT users.id AS users_id, users.name AS users_name, users.fullname AS users_fullname, users.nickname AS users_nickname, users.date AS users_date \n",
      "FROM users ORDER BY users.id\n",
      "2022-07-05 11:39:57,695 INFO sqlalchemy.engine.Engine [generated in 0.00101s] ()\n",
      "ed Ed Jones\n",
      "wendy Wendy Williams\n",
      "mary Mary Contrary\n",
      "fred Fred Flintstone\n"
     ]
    }
   ],
   "source": [
    "for instance in session.query(User).order_by(User.id):\n",
    "    print(instance.name, instance.fullname)"
   ]
  },
  {
   "cell_type": "code",
   "execution_count": 167,
   "metadata": {},
   "outputs": [
    {
     "name": "stdout",
     "output_type": "stream",
     "text": [
      "2022-07-05 11:39:57,754 INFO sqlalchemy.engine.Engine SELECT users.id AS users_id, users.name AS users_name, users.fullname AS users_fullname, users.nickname AS users_nickname, users.date AS users_date \n",
      "FROM users ORDER BY users.id\n",
      " LIMIT ? OFFSET ?\n",
      "2022-07-05 11:39:57,755 INFO sqlalchemy.engine.Engine [generated in 0.00084s] (2, 1)\n",
      "wendy Wendy Williams\n",
      "mary Mary Contrary\n"
     ]
    }
   ],
   "source": [
    "for instance in session.query(User).order_by(User.id)[1:3]:\n",
    "    print(instance.name, instance.fullname)"
   ]
  },
  {
   "cell_type": "code",
   "execution_count": 176,
   "metadata": {},
   "outputs": [
    {
     "name": "stdout",
     "output_type": "stream",
     "text": [
      "2022-07-05 12:06:53,731 INFO sqlalchemy.engine.Engine SELECT users.id AS users_id, users.name AS users_name, users.fullname AS users_fullname, users.nickname AS users_nickname, users.date AS users_date \n",
      "FROM users \n",
      "WHERE users.name = ?\n",
      "2022-07-05 12:06:53,732 INFO sqlalchemy.engine.Engine [generated in 0.00122s] ('mary',)\n",
      "mary\n"
     ]
    }
   ],
   "source": [
    "for name in session.query(User).filter(User.name=='mary'):\n",
    "    print(name.name)"
   ]
  },
  {
   "cell_type": "code",
   "execution_count": 168,
   "metadata": {},
   "outputs": [
    {
     "name": "stdout",
     "output_type": "stream",
     "text": [
      "2022-07-05 11:39:57,819 INFO sqlalchemy.engine.Engine SELECT users.name AS name_label \n",
      "FROM users\n",
      "2022-07-05 11:39:57,819 INFO sqlalchemy.engine.Engine [generated in 0.00088s] ()\n",
      "ed\n",
      "wendy\n",
      "mary\n",
      "fred\n"
     ]
    }
   ],
   "source": [
    "for row in session.query(User.name.label('name_label')).all():\n",
    "   print(row.name_label)"
   ]
  },
  {
   "cell_type": "code",
   "execution_count": 177,
   "metadata": {},
   "outputs": [],
   "source": [
    "# query.filter(User.name=='ed')\n",
    "# query.filter(User.name != 'ed')\n",
    "# query.filter(User.name.like('%ed%'))\n",
    "# query.filter(User.name.in_(['ed','wendy','jack']))"
   ]
  },
  {
   "cell_type": "code",
   "execution_count": null,
   "metadata": {},
   "outputs": [],
   "source": [
    "# from sqlalchemy import tuple_\n",
    "# session.query.filter()"
   ]
  },
  {
   "cell_type": "markdown",
   "metadata": {},
   "source": [
    "Return List vs Scala  \n",
    "returns list .all() \n",
    "return a scalar .first()  "
   ]
  },
  {
   "cell_type": "code",
   "execution_count": null,
   "metadata": {},
   "outputs": [],
   "source": []
  },
  {
   "cell_type": "markdown",
   "metadata": {},
   "source": [
    "# End"
   ]
  },
  {
   "cell_type": "code",
   "execution_count": 169,
   "metadata": {},
   "outputs": [
    {
     "name": "stdout",
     "output_type": "stream",
     "text": [
      "2022-07-05 11:39:57,878 INFO sqlalchemy.engine.Engine ROLLBACK\n"
     ]
    }
   ],
   "source": [
    "session.close()"
   ]
  }
 ],
 "metadata": {
  "kernelspec": {
   "display_name": "Python 3.8.8 ('base')",
   "language": "python",
   "name": "python3"
  },
  "language_info": {
   "codemirror_mode": {
    "name": "ipython",
    "version": 3
   },
   "file_extension": ".py",
   "mimetype": "text/x-python",
   "name": "python",
   "nbconvert_exporter": "python",
   "pygments_lexer": "ipython3",
   "version": "3.9.12"
  },
  "vscode": {
   "interpreter": {
    "hash": "51480fad90fe9d21f60dbdf1474e71297e9cf7d519346d7c8ab062a40f50e1c0"
   }
  }
 },
 "nbformat": 4,
 "nbformat_minor": 2
}
