{
 "cells": [
  {
   "cell_type": "markdown",
   "metadata": {},
   "source": [
    "This document is following the SQLAlchemy 1.4 Document Object Relational Tutorial  \n",
    "https://docs.sqlalchemy.org/en/14/orm/tutorial.html#version-check\n"
   ]
  },
  {
   "cell_type": "markdown",
   "metadata": {},
   "source": [
    "# Settings"
   ]
  },
  {
   "cell_type": "code",
   "execution_count": 145,
   "metadata": {},
   "outputs": [],
   "source": [
    "# Connecting\n",
    "\n",
    "from sqlalchemy import create_engine\n",
    "engine = create_engine('sqlite:///orm_test4.db', echo=True)"
   ]
  },
  {
   "cell_type": "code",
   "execution_count": 146,
   "metadata": {},
   "outputs": [],
   "source": [
    "# Declare a Mapping\n",
    "\n",
    "from sqlalchemy.ext.declarative import declarative_base\n",
    "Base = declarative_base()"
   ]
  },
  {
   "cell_type": "code",
   "execution_count": 147,
   "metadata": {},
   "outputs": [],
   "source": [
    "# Create a Schema\n",
    "\n",
    "from sqlalchemy import Column, Integer, String, DateTime\n",
    "class User(Base):\n",
    "    __tablename__ = 'users'\n",
    "    id = Column(Integer, primary_key=True)\n",
    "    name = Column(String)\n",
    "    fullname = Column(String)\n",
    "    nickname = Column(String)\n",
    "    date = Column(DateTime)\n",
    "    def __repr__(self):\n",
    "       return \"<User(name='%s', fullname='%s', nickname='%s',date='%s')>\" % (\n",
    "                            self.name, self.fullname, self.nickname, self.date)"
   ]
  },
  {
   "cell_type": "code",
   "execution_count": 148,
   "metadata": {},
   "outputs": [
    {
     "data": {
      "text/plain": [
       "Column(None, Integer(), table=None, primary_key=True, nullable=False, default=Sequence('user_id_seq'))"
      ]
     },
     "execution_count": 148,
     "metadata": {},
     "output_type": "execute_result"
    }
   ],
   "source": [
    "from sqlalchemy import Sequence\n",
    "Column(Integer, Sequence('user_id_seq'), primary_key=True)"
   ]
  },
  {
   "cell_type": "code",
   "execution_count": 149,
   "metadata": {},
   "outputs": [
    {
     "name": "stdout",
     "output_type": "stream",
     "text": [
      "2022-07-05 11:39:56,536 INFO sqlalchemy.engine.Engine BEGIN (implicit)\n",
      "2022-07-05 11:39:56,537 INFO sqlalchemy.engine.Engine PRAGMA main.table_info(\"users\")\n",
      "2022-07-05 11:39:56,537 INFO sqlalchemy.engine.Engine [raw sql] ()\n",
      "2022-07-05 11:39:56,538 INFO sqlalchemy.engine.Engine PRAGMA temp.table_info(\"users\")\n",
      "2022-07-05 11:39:56,539 INFO sqlalchemy.engine.Engine [raw sql] ()\n",
      "2022-07-05 11:39:56,541 INFO sqlalchemy.engine.Engine \n",
      "CREATE TABLE users (\n",
      "\tid INTEGER NOT NULL, \n",
      "\tname VARCHAR, \n",
      "\tfullname VARCHAR, \n",
      "\tnickname VARCHAR, \n",
      "\tdate DATETIME, \n",
      "\tPRIMARY KEY (id)\n",
      ")\n",
      "\n",
      "\n",
      "2022-07-05 11:39:56,542 INFO sqlalchemy.engine.Engine [no key 0.00090s] ()\n",
      "2022-07-05 11:39:56,571 INFO sqlalchemy.engine.Engine COMMIT\n"
     ]
    }
   ],
   "source": [
    "Base.metadata.create_all(engine)"
   ]
  },
  {
   "cell_type": "code",
   "execution_count": 150,
   "metadata": {},
   "outputs": [],
   "source": [
    "from datetime import datetime\n",
    "now = datetime.now()"
   ]
  },
  {
   "cell_type": "code",
   "execution_count": 151,
   "metadata": {},
   "outputs": [
    {
     "name": "stdout",
     "output_type": "stream",
     "text": [
      "<User(name='ed', fullname='Ed Jones', nickname='edsnickname',date='2022-07-05 11:39:56.675644')>\n",
      "ed\n",
      "Ed Jones\n",
      "edsnickname\n",
      "None\n"
     ]
    }
   ],
   "source": [
    "# Create an instance of the mapped Class\n",
    "\n",
    "ed_user = User(name='ed', fullname='Ed Jones', nickname='edsnickname', date=now)\n",
    "print(ed_user)\n",
    "print(ed_user.name)\n",
    "print(ed_user.fullname)\n",
    "print(ed_user.nickname)\n",
    "print(str(ed_user.id))"
   ]
  },
  {
   "cell_type": "markdown",
   "metadata": {},
   "source": [
    "# Creating a Session"
   ]
  },
  {
   "cell_type": "code",
   "execution_count": 152,
   "metadata": {},
   "outputs": [],
   "source": [
    "from sqlalchemy.orm import sessionmaker\n",
    "\n",
    "session_maker = sessionmaker(bind=engine)\n",
    "session = session_maker()"
   ]
  },
  {
   "cell_type": "code",
   "execution_count": 153,
   "metadata": {},
   "outputs": [
    {
     "name": "stdout",
     "output_type": "stream",
     "text": [
      "<User(name='ed', fullname='Ed Jones', nickname='edsnickname',date='2022-07-05 11:39:56.675644')>\n"
     ]
    },
    {
     "data": {
      "text/plain": [
       "False"
      ]
     },
     "execution_count": 153,
     "metadata": {},
     "output_type": "execute_result"
    }
   ],
   "source": [
    "session.add(ed_user)\n",
    "print(ed_user)\n",
    "ed_user in session.dirty"
   ]
  },
  {
   "cell_type": "code",
   "execution_count": 154,
   "metadata": {},
   "outputs": [
    {
     "name": "stdout",
     "output_type": "stream",
     "text": [
      "2022-07-05 11:39:56,940 INFO sqlalchemy.engine.Engine BEGIN (implicit)\n",
      "2022-07-05 11:39:56,942 INFO sqlalchemy.engine.Engine INSERT INTO users (name, fullname, nickname, date) VALUES (?, ?, ?, ?)\n",
      "2022-07-05 11:39:56,942 INFO sqlalchemy.engine.Engine [generated in 0.00070s] ('ed', 'Ed Jones', 'edsnickname', '2022-07-05 11:39:56.675644')\n",
      "2022-07-05 11:39:56,949 INFO sqlalchemy.engine.Engine COMMIT\n"
     ]
    }
   ],
   "source": [
    "session.commit()"
   ]
  },
  {
   "cell_type": "code",
   "execution_count": 155,
   "metadata": {},
   "outputs": [],
   "source": [
    "# https://docs.sqlalchemy.org/en/14/orm/session_api.html#session-and-sessionmaker"
   ]
  },
  {
   "cell_type": "markdown",
   "metadata": {},
   "source": [
    "# Adding data"
   ]
  },
  {
   "cell_type": "code",
   "execution_count": 156,
   "metadata": {},
   "outputs": [
    {
     "name": "stdout",
     "output_type": "stream",
     "text": [
      "2022-07-05 11:39:57,070 INFO sqlalchemy.engine.Engine BEGIN (implicit)\n",
      "2022-07-05 11:39:57,071 INFO sqlalchemy.engine.Engine INSERT INTO users (name, fullname, nickname, date) VALUES (?, ?, ?, ?)\n",
      "2022-07-05 11:39:57,071 INFO sqlalchemy.engine.Engine [cached since 0.1301s ago] ('wendy', 'Wendy Williams', 'windy', '2022-07-05 11:39:56.675644')\n",
      "2022-07-05 11:39:57,073 INFO sqlalchemy.engine.Engine INSERT INTO users (name, fullname, nickname, date) VALUES (?, ?, ?, ?)\n",
      "2022-07-05 11:39:57,075 INFO sqlalchemy.engine.Engine [cached since 0.1329s ago] ('mary', 'Mary Contrary', 'mary', '2022-07-05 11:39:56.675644')\n",
      "2022-07-05 11:39:57,075 INFO sqlalchemy.engine.Engine INSERT INTO users (name, fullname, nickname, date) VALUES (?, ?, ?, ?)\n",
      "2022-07-05 11:39:57,076 INFO sqlalchemy.engine.Engine [cached since 0.1345s ago] ('fred', 'Fred Flintstone', 'freddy', '2022-07-05 11:39:56.675644')\n",
      "2022-07-05 11:39:57,076 INFO sqlalchemy.engine.Engine COMMIT\n"
     ]
    }
   ],
   "source": [
    "session.add_all([\n",
    "    User(name='wendy', fullname='Wendy Williams', nickname='windy',date=now),\n",
    "    User(name='mary', fullname='Mary Contrary', nickname='mary', date=now),\n",
    "    User(name='fred', fullname='Fred Flintstone', nickname='freddy', date=now)])\n",
    "\n",
    "session.commit()"
   ]
  },
  {
   "cell_type": "code",
   "execution_count": 157,
   "metadata": {},
   "outputs": [
    {
     "data": {
      "text/plain": [
       "IdentitySet([])"
      ]
     },
     "execution_count": 157,
     "metadata": {},
     "output_type": "execute_result"
    }
   ],
   "source": [
    "session.new"
   ]
  },
  {
   "cell_type": "markdown",
   "metadata": {},
   "source": [
    "# Query  "
   ]
  },
  {
   "cell_type": "code",
   "execution_count": 158,
   "metadata": {},
   "outputs": [],
   "source": [
    "from sqlalchemy import select"
   ]
  },
  {
   "cell_type": "markdown",
   "metadata": {},
   "source": [
    "select vs execute(select)"
   ]
  },
  {
   "cell_type": "code",
   "execution_count": 159,
   "metadata": {},
   "outputs": [
    {
     "name": "stdout",
     "output_type": "stream",
     "text": [
      "SELECT users.id AS users_id, users.name AS users_name, users.fullname AS users_fullname, users.nickname AS users_nickname, users.date AS users_date \n",
      "FROM users\n",
      "<class 'sqlalchemy.orm.query.Query'>\n"
     ]
    }
   ],
   "source": [
    "query_all = session.query(User)\n",
    "print(query_all)\n",
    "print(type(query_all))"
   ]
  },
  {
   "cell_type": "code",
   "execution_count": 160,
   "metadata": {},
   "outputs": [
    {
     "name": "stdout",
     "output_type": "stream",
     "text": [
      "2022-07-05 11:39:57,334 INFO sqlalchemy.engine.Engine BEGIN (implicit)\n",
      "2022-07-05 11:39:57,335 INFO sqlalchemy.engine.Engine SELECT users.id, users.name, users.fullname, users.nickname, users.date \n",
      "FROM users\n",
      "2022-07-05 11:39:57,335 INFO sqlalchemy.engine.Engine [generated in 0.00040s] ()\n",
      "<sqlalchemy.engine.result.ChunkedIteratorResult object at 0x0000021354637D90>\n",
      "<class 'sqlalchemy.engine.result.ChunkedIteratorResult'>\n"
     ]
    }
   ],
   "source": [
    "query_exe = session.execute(select(User))\n",
    "print(query_exe)\n",
    "print(type(query_exe))"
   ]
  },
  {
   "cell_type": "code",
   "execution_count": 161,
   "metadata": {},
   "outputs": [
    {
     "name": "stdout",
     "output_type": "stream",
     "text": [
      "2022-07-05 11:39:57,397 INFO sqlalchemy.engine.Engine SELECT users.id AS users_id, users.name AS users_name, users.fullname AS users_fullname, users.nickname AS users_nickname, users.date AS users_date \n",
      "FROM users\n",
      "2022-07-05 11:39:57,398 INFO sqlalchemy.engine.Engine [generated in 0.00054s] ()\n",
      "<User(name='ed', fullname='Ed Jones', nickname='edsnickname',date='2022-07-05 11:39:56.675644')>\n",
      "<User(name='wendy', fullname='Wendy Williams', nickname='windy',date='2022-07-05 11:39:56.675644')>\n",
      "<User(name='mary', fullname='Mary Contrary', nickname='mary',date='2022-07-05 11:39:56.675644')>\n",
      "<User(name='fred', fullname='Fred Flintstone', nickname='freddy',date='2022-07-05 11:39:56.675644')>\n"
     ]
    }
   ],
   "source": [
    "for i in query_all:\n",
    "    print(i)"
   ]
  },
  {
   "cell_type": "code",
   "execution_count": 162,
   "metadata": {},
   "outputs": [
    {
     "name": "stdout",
     "output_type": "stream",
     "text": [
      "(<User(name='ed', fullname='Ed Jones', nickname='edsnickname',date='2022-07-05 11:39:56.675644')>,)\n",
      "(<User(name='wendy', fullname='Wendy Williams', nickname='windy',date='2022-07-05 11:39:56.675644')>,)\n",
      "(<User(name='mary', fullname='Mary Contrary', nickname='mary',date='2022-07-05 11:39:56.675644')>,)\n",
      "(<User(name='fred', fullname='Fred Flintstone', nickname='freddy',date='2022-07-05 11:39:56.675644')>,)\n"
     ]
    }
   ],
   "source": [
    "for i in query_exe:\n",
    "    print(i)"
   ]
  },
  {
   "cell_type": "code",
   "execution_count": 163,
   "metadata": {},
   "outputs": [
    {
     "name": "stdout",
     "output_type": "stream",
     "text": [
      "2022-07-05 11:39:57,517 INFO sqlalchemy.engine.Engine ROLLBACK\n"
     ]
    }
   ],
   "source": [
    "session.close()"
   ]
  },
  {
   "cell_type": "code",
   "execution_count": 164,
   "metadata": {},
   "outputs": [
    {
     "name": "stdout",
     "output_type": "stream",
     "text": [
      "2022-07-05 11:39:57,572 INFO sqlalchemy.engine.Engine BEGIN (implicit)\n",
      "2022-07-05 11:39:57,573 INFO sqlalchemy.engine.Engine SELECT users.id AS users_id, users.name AS users_name, users.fullname AS users_fullname, users.nickname AS users_nickname, users.date AS users_date \n",
      "FROM users\n",
      "2022-07-05 11:39:57,573 INFO sqlalchemy.engine.Engine [cached since 0.176s ago] ()\n",
      "<User(name='ed', fullname='Ed Jones', nickname='edsnickname',date='2022-07-05 11:39:56.675644')>\n",
      "<User(name='wendy', fullname='Wendy Williams', nickname='windy',date='2022-07-05 11:39:56.675644')>\n",
      "<User(name='mary', fullname='Mary Contrary', nickname='mary',date='2022-07-05 11:39:56.675644')>\n",
      "<User(name='fred', fullname='Fred Flintstone', nickname='freddy',date='2022-07-05 11:39:56.675644')>\n"
     ]
    }
   ],
   "source": [
    "for instance in session.query(User):\n",
    "    print(instance)"
   ]
  },
  {
   "cell_type": "code",
   "execution_count": 165,
   "metadata": {},
   "outputs": [
    {
     "name": "stdout",
     "output_type": "stream",
     "text": [
      "2022-07-05 11:39:57,635 INFO sqlalchemy.engine.Engine SELECT users.id, users.name, users.fullname, users.nickname, users.date \n",
      "FROM users\n",
      "2022-07-05 11:39:57,636 INFO sqlalchemy.engine.Engine [cached since 0.3009s ago] ()\n",
      "(<User(name='ed', fullname='Ed Jones', nickname='edsnickname',date='2022-07-05 11:39:56.675644')>,)\n",
      "(<User(name='wendy', fullname='Wendy Williams', nickname='windy',date='2022-07-05 11:39:56.675644')>,)\n",
      "(<User(name='mary', fullname='Mary Contrary', nickname='mary',date='2022-07-05 11:39:56.675644')>,)\n",
      "(<User(name='fred', fullname='Fred Flintstone', nickname='freddy',date='2022-07-05 11:39:56.675644')>,)\n"
     ]
    }
   ],
   "source": [
    "for instance in session.execute(select(User)):\n",
    "    print(instance)"
   ]
  },
  {
   "cell_type": "code",
   "execution_count": 166,
   "metadata": {},
   "outputs": [
    {
     "name": "stdout",
     "output_type": "stream",
     "text": [
      "2022-07-05 11:39:57,694 INFO sqlalchemy.engine.Engine SELECT users.id AS users_id, users.name AS users_name, users.fullname AS users_fullname, users.nickname AS users_nickname, users.date AS users_date \n",
      "FROM users ORDER BY users.id\n",
      "2022-07-05 11:39:57,695 INFO sqlalchemy.engine.Engine [generated in 0.00101s] ()\n",
      "ed Ed Jones\n",
      "wendy Wendy Williams\n",
      "mary Mary Contrary\n",
      "fred Fred Flintstone\n"
     ]
    }
   ],
   "source": [
    "for instance in session.query(User).order_by(User.id):\n",
    "    print(instance.name, instance.fullname)"
   ]
  },
  {
   "cell_type": "code",
   "execution_count": 167,
   "metadata": {},
   "outputs": [
    {
     "name": "stdout",
     "output_type": "stream",
     "text": [
      "2022-07-05 11:39:57,754 INFO sqlalchemy.engine.Engine SELECT users.id AS users_id, users.name AS users_name, users.fullname AS users_fullname, users.nickname AS users_nickname, users.date AS users_date \n",
      "FROM users ORDER BY users.id\n",
      " LIMIT ? OFFSET ?\n",
      "2022-07-05 11:39:57,755 INFO sqlalchemy.engine.Engine [generated in 0.00084s] (2, 1)\n",
      "wendy Wendy Williams\n",
      "mary Mary Contrary\n"
     ]
    }
   ],
   "source": [
    "for instance in session.query(User).order_by(User.id)[1:3]:\n",
    "    print(instance.name, instance.fullname)"
   ]
  },
  {
   "cell_type": "code",
   "execution_count": 176,
   "metadata": {},
   "outputs": [
    {
     "name": "stdout",
     "output_type": "stream",
     "text": [
      "2022-07-05 12:06:53,731 INFO sqlalchemy.engine.Engine SELECT users.id AS users_id, users.name AS users_name, users.fullname AS users_fullname, users.nickname AS users_nickname, users.date AS users_date \n",
      "FROM users \n",
      "WHERE users.name = ?\n",
      "2022-07-05 12:06:53,732 INFO sqlalchemy.engine.Engine [generated in 0.00122s] ('mary',)\n",
      "mary\n"
     ]
    }
   ],
   "source": [
    "for name in session.query(User).filter(User.name=='mary'):\n",
    "    print(name.name)"
   ]
  },
  {
   "cell_type": "code",
   "execution_count": 168,
   "metadata": {},
   "outputs": [
    {
     "name": "stdout",
     "output_type": "stream",
     "text": [
      "2022-07-05 11:39:57,819 INFO sqlalchemy.engine.Engine SELECT users.name AS name_label \n",
      "FROM users\n",
      "2022-07-05 11:39:57,819 INFO sqlalchemy.engine.Engine [generated in 0.00088s] ()\n",
      "ed\n",
      "wendy\n",
      "mary\n",
      "fred\n"
     ]
    }
   ],
   "source": [
    "for row in session.query(User.name.label('name_label')).all():\n",
    "   print(row.name_label)"
   ]
  },
  {
   "cell_type": "code",
   "execution_count": 177,
   "metadata": {},
   "outputs": [],
   "source": [
    "# query.filter(User.name=='ed')\n",
    "# query.filter(User.name != 'ed')\n",
    "# query.filter(User.name.like('%ed%'))\n",
    "# query.filter(User.name.in_(['ed','wendy','jack']))"
   ]
  },
  {
   "cell_type": "code",
   "execution_count": null,
   "metadata": {},
   "outputs": [],
   "source": [
    "# from sqlalchemy import tuple_\n",
    "# session.query.filter()"
   ]
  },
  {
   "cell_type": "markdown",
   "metadata": {},
   "source": [
    "Return List vs Scala  \n",
    "returns list .all()  \n",
    "return a scalar .first(), one()   "
   ]
  },
  {
   "cell_type": "code",
   "execution_count": 180,
   "metadata": {},
   "outputs": [
    {
     "name": "stdout",
     "output_type": "stream",
     "text": [
      "SELECT users.id AS users_id, users.name AS users_name, users.fullname AS users_fullname, users.nickname AS users_nickname, users.date AS users_date \n",
      "FROM users \n",
      "WHERE users.name LIKE ?\n",
      "2022-07-06 09:41:37,821 INFO sqlalchemy.engine.Engine SELECT users.id AS users_id, users.name AS users_name, users.fullname AS users_fullname, users.nickname AS users_nickname, users.date AS users_date \n",
      "FROM users \n",
      "WHERE users.name LIKE ?\n",
      "2022-07-06 09:41:37,822 INFO sqlalchemy.engine.Engine [cached since 61.56s ago] ('%ed',)\n",
      "[<User(name='ed', fullname='Ed Jones', nickname='edsnickname',date='2022-07-05 11:39:56.675644')>, <User(name='fred', fullname='Fred Flintstone', nickname='freddy',date='2022-07-05 11:39:56.675644')>]\n"
     ]
    }
   ],
   "source": [
    "query = session.query(User).filter(User.name.like('%ed'))\n",
    "print(query) #output the query itself\n",
    "print(query.all()) # output the query and the result"
   ]
  },
  {
   "cell_type": "code",
   "execution_count": 182,
   "metadata": {},
   "outputs": [
    {
     "name": "stdout",
     "output_type": "stream",
     "text": [
      "2022-07-06 09:42:30,819 INFO sqlalchemy.engine.Engine SELECT users.id AS users_id, users.name AS users_name, users.fullname AS users_fullname, users.nickname AS users_nickname, users.date AS users_date \n",
      "FROM users \n",
      "WHERE users.name LIKE ?\n",
      " LIMIT ? OFFSET ?\n",
      "2022-07-06 09:42:30,820 INFO sqlalchemy.engine.Engine [cached since 25.74s ago] ('%ed', 1, 0)\n",
      "<User(name='ed', fullname='Ed Jones', nickname='edsnickname',date='2022-07-05 11:39:56.675644')>\n"
     ]
    }
   ],
   "source": [
    "# applies a limit of one and returns the first result as a scalar\n",
    "print(query.first())"
   ]
  },
  {
   "cell_type": "code",
   "execution_count": 184,
   "metadata": {},
   "outputs": [
    {
     "name": "stdout",
     "output_type": "stream",
     "text": [
      "2022-07-06 09:45:42,139 INFO sqlalchemy.engine.Engine SELECT users.id AS users_id, users.name AS users_name, users.fullname AS users_fullname, users.nickname AS users_nickname, users.date AS users_date \n",
      "FROM users \n",
      "WHERE users.name LIKE ?\n",
      "2022-07-06 09:45:42,140 INFO sqlalchemy.engine.Engine [cached since 305.9s ago] ('%ed',)\n"
     ]
    },
    {
     "ename": "MultipleResultsFound",
     "evalue": "Multiple rows were found when exactly one was required",
     "output_type": "error",
     "traceback": [
      "\u001b[1;31m---------------------------------------------------------------------------\u001b[0m",
      "\u001b[1;31mMultipleResultsFound\u001b[0m                      Traceback (most recent call last)",
      "\u001b[1;32mc:\\Users\\Kelly\\Desktop\\x\\practices\\python_package\\sqlalchemy.ipynb Cell 37'\u001b[0m in \u001b[0;36m<cell line: 5>\u001b[1;34m()\u001b[0m\n\u001b[0;32m      <a href='vscode-notebook-cell:/c%3A/Users/Kelly/Desktop/x/practices/python_package/sqlalchemy.ipynb#ch0000056?line=0'>1</a>\u001b[0m \u001b[39m'''\u001b[39;00m\n\u001b[0;32m      <a href='vscode-notebook-cell:/c%3A/Users/Kelly/Desktop/x/practices/python_package/sqlalchemy.ipynb#ch0000056?line=1'>2</a>\u001b[0m \u001b[39mfully fetches all rows, and if not exactly one object identity or composite row is \u001b[39;00m\n\u001b[0;32m      <a href='vscode-notebook-cell:/c%3A/Users/Kelly/Desktop/x/practices/python_package/sqlalchemy.ipynb#ch0000056?line=2'>3</a>\u001b[0m \u001b[39mpresent in the result, raises an error With multiple rows found\u001b[39;00m\n\u001b[0;32m      <a href='vscode-notebook-cell:/c%3A/Users/Kelly/Desktop/x/practices/python_package/sqlalchemy.ipynb#ch0000056?line=3'>4</a>\u001b[0m \u001b[39m'''\u001b[39;00m\n\u001b[1;32m----> <a href='vscode-notebook-cell:/c%3A/Users/Kelly/Desktop/x/practices/python_package/sqlalchemy.ipynb#ch0000056?line=4'>5</a>\u001b[0m user \u001b[39m=\u001b[39m query\u001b[39m.\u001b[39;49mone()\n",
      "File \u001b[1;32mc:\\Users\\Kelly\\anaconda3\\lib\\site-packages\\sqlalchemy\\orm\\query.py:2856\u001b[0m, in \u001b[0;36mQuery.one\u001b[1;34m(self)\u001b[0m\n\u001b[0;32m   2838\u001b[0m \u001b[39mdef\u001b[39;00m \u001b[39mone\u001b[39m(\u001b[39mself\u001b[39m):\n\u001b[0;32m   2839\u001b[0m     \u001b[39m\"\"\"Return exactly one result or raise an exception.\u001b[39;00m\n\u001b[0;32m   2840\u001b[0m \n\u001b[0;32m   2841\u001b[0m \u001b[39m    Raises ``sqlalchemy.orm.exc.NoResultFound`` if the query selects\u001b[39;00m\n\u001b[1;32m   (...)\u001b[0m\n\u001b[0;32m   2854\u001b[0m \n\u001b[0;32m   2855\u001b[0m \u001b[39m    \"\"\"\u001b[39;00m\n\u001b[1;32m-> 2856\u001b[0m     \u001b[39mreturn\u001b[39;00m \u001b[39mself\u001b[39;49m\u001b[39m.\u001b[39;49m_iter()\u001b[39m.\u001b[39;49mone()\n",
      "File \u001b[1;32mc:\\Users\\Kelly\\anaconda3\\lib\\site-packages\\sqlalchemy\\engine\\result.py:1408\u001b[0m, in \u001b[0;36mScalarResult.one\u001b[1;34m(self)\u001b[0m\n\u001b[0;32m   1400\u001b[0m \u001b[39mdef\u001b[39;00m \u001b[39mone\u001b[39m(\u001b[39mself\u001b[39m):\n\u001b[0;32m   1401\u001b[0m     \u001b[39m\"\"\"Return exactly one object or raise an exception.\u001b[39;00m\n\u001b[0;32m   1402\u001b[0m \n\u001b[0;32m   1403\u001b[0m \u001b[39m    Equivalent to :meth:`_result.Result.one` except that\u001b[39;00m\n\u001b[1;32m   (...)\u001b[0m\n\u001b[0;32m   1406\u001b[0m \n\u001b[0;32m   1407\u001b[0m \u001b[39m    \"\"\"\u001b[39;00m\n\u001b[1;32m-> 1408\u001b[0m     \u001b[39mreturn\u001b[39;00m \u001b[39mself\u001b[39;49m\u001b[39m.\u001b[39;49m_only_one_row(\n\u001b[0;32m   1409\u001b[0m         raise_for_second_row\u001b[39m=\u001b[39;49m\u001b[39mTrue\u001b[39;49;00m, raise_for_none\u001b[39m=\u001b[39;49m\u001b[39mTrue\u001b[39;49;00m, scalar\u001b[39m=\u001b[39;49m\u001b[39mFalse\u001b[39;49;00m\n\u001b[0;32m   1410\u001b[0m     )\n",
      "File \u001b[1;32mc:\\Users\\Kelly\\anaconda3\\lib\\site-packages\\sqlalchemy\\engine\\result.py:614\u001b[0m, in \u001b[0;36mResultInternal._only_one_row\u001b[1;34m(self, raise_for_second_row, raise_for_none, scalar)\u001b[0m\n\u001b[0;32m    612\u001b[0m     \u001b[39mif\u001b[39;00m next_row \u001b[39mis\u001b[39;00m \u001b[39mnot\u001b[39;00m _NO_ROW:\n\u001b[0;32m    613\u001b[0m         \u001b[39mself\u001b[39m\u001b[39m.\u001b[39m_soft_close(hard\u001b[39m=\u001b[39m\u001b[39mTrue\u001b[39;00m)\n\u001b[1;32m--> 614\u001b[0m         \u001b[39mraise\u001b[39;00m exc\u001b[39m.\u001b[39mMultipleResultsFound(\n\u001b[0;32m    615\u001b[0m             \u001b[39m\"\u001b[39m\u001b[39mMultiple rows were found when exactly one was required\u001b[39m\u001b[39m\"\u001b[39m\n\u001b[0;32m    616\u001b[0m             \u001b[39mif\u001b[39;00m raise_for_none\n\u001b[0;32m    617\u001b[0m             \u001b[39melse\u001b[39;00m \u001b[39m\"\u001b[39m\u001b[39mMultiple rows were found when one or none \u001b[39m\u001b[39m\"\u001b[39m\n\u001b[0;32m    618\u001b[0m             \u001b[39m\"\u001b[39m\u001b[39mwas required\u001b[39m\u001b[39m\"\u001b[39m\n\u001b[0;32m    619\u001b[0m         )\n\u001b[0;32m    620\u001b[0m \u001b[39melse\u001b[39;00m:\n\u001b[0;32m    621\u001b[0m     next_row \u001b[39m=\u001b[39m _NO_ROW\n",
      "\u001b[1;31mMultipleResultsFound\u001b[0m: Multiple rows were found when exactly one was required"
     ]
    }
   ],
   "source": [
    "'''\n",
    "fully fetches all rows, and if not exactly one object identity or composite row is \n",
    "present in the result, raises an error With multiple rows found\n",
    "'''\n",
    "user = query.one()"
   ]
  },
  {
   "cell_type": "code",
   "execution_count": 185,
   "metadata": {},
   "outputs": [
    {
     "name": "stdout",
     "output_type": "stream",
     "text": [
      "2022-07-06 09:46:19,201 INFO sqlalchemy.engine.Engine SELECT users.id AS users_id, users.name AS users_name, users.fullname AS users_fullname, users.nickname AS users_nickname, users.date AS users_date \n",
      "FROM users \n",
      "WHERE users.name LIKE ? AND users.id = ?\n",
      "2022-07-06 09:46:19,201 INFO sqlalchemy.engine.Engine [generated in 0.00073s] ('%ed', 99)\n"
     ]
    },
    {
     "ename": "NoResultFound",
     "evalue": "No row was found when one was required",
     "output_type": "error",
     "traceback": [
      "\u001b[1;31m---------------------------------------------------------------------------\u001b[0m",
      "\u001b[1;31mNoResultFound\u001b[0m                             Traceback (most recent call last)",
      "\u001b[1;32mc:\\Users\\Kelly\\Desktop\\x\\practices\\python_package\\sqlalchemy.ipynb Cell 38'\u001b[0m in \u001b[0;36m<cell line: 4>\u001b[1;34m()\u001b[0m\n\u001b[0;32m      <a href='vscode-notebook-cell:/c%3A/Users/Kelly/Desktop/x/practices/python_package/sqlalchemy.ipynb#ch0000057?line=0'>1</a>\u001b[0m \u001b[39m'''\u001b[39;00m\n\u001b[0;32m      <a href='vscode-notebook-cell:/c%3A/Users/Kelly/Desktop/x/practices/python_package/sqlalchemy.ipynb#ch0000057?line=1'>2</a>\u001b[0m \u001b[39mNoResultFound error\u001b[39;00m\n\u001b[0;32m      <a href='vscode-notebook-cell:/c%3A/Users/Kelly/Desktop/x/practices/python_package/sqlalchemy.ipynb#ch0000057?line=2'>3</a>\u001b[0m \u001b[39m'''\u001b[39;00m\n\u001b[1;32m----> <a href='vscode-notebook-cell:/c%3A/Users/Kelly/Desktop/x/practices/python_package/sqlalchemy.ipynb#ch0000057?line=3'>4</a>\u001b[0m user \u001b[39m=\u001b[39m query\u001b[39m.\u001b[39;49mfilter(User\u001b[39m.\u001b[39;49mid \u001b[39m==\u001b[39;49m \u001b[39m99\u001b[39;49m)\u001b[39m.\u001b[39;49mone()\n",
      "File \u001b[1;32mc:\\Users\\Kelly\\anaconda3\\lib\\site-packages\\sqlalchemy\\orm\\query.py:2856\u001b[0m, in \u001b[0;36mQuery.one\u001b[1;34m(self)\u001b[0m\n\u001b[0;32m   2838\u001b[0m \u001b[39mdef\u001b[39;00m \u001b[39mone\u001b[39m(\u001b[39mself\u001b[39m):\n\u001b[0;32m   2839\u001b[0m     \u001b[39m\"\"\"Return exactly one result or raise an exception.\u001b[39;00m\n\u001b[0;32m   2840\u001b[0m \n\u001b[0;32m   2841\u001b[0m \u001b[39m    Raises ``sqlalchemy.orm.exc.NoResultFound`` if the query selects\u001b[39;00m\n\u001b[1;32m   (...)\u001b[0m\n\u001b[0;32m   2854\u001b[0m \n\u001b[0;32m   2855\u001b[0m \u001b[39m    \"\"\"\u001b[39;00m\n\u001b[1;32m-> 2856\u001b[0m     \u001b[39mreturn\u001b[39;00m \u001b[39mself\u001b[39;49m\u001b[39m.\u001b[39;49m_iter()\u001b[39m.\u001b[39;49mone()\n",
      "File \u001b[1;32mc:\\Users\\Kelly\\anaconda3\\lib\\site-packages\\sqlalchemy\\engine\\result.py:1408\u001b[0m, in \u001b[0;36mScalarResult.one\u001b[1;34m(self)\u001b[0m\n\u001b[0;32m   1400\u001b[0m \u001b[39mdef\u001b[39;00m \u001b[39mone\u001b[39m(\u001b[39mself\u001b[39m):\n\u001b[0;32m   1401\u001b[0m     \u001b[39m\"\"\"Return exactly one object or raise an exception.\u001b[39;00m\n\u001b[0;32m   1402\u001b[0m \n\u001b[0;32m   1403\u001b[0m \u001b[39m    Equivalent to :meth:`_result.Result.one` except that\u001b[39;00m\n\u001b[1;32m   (...)\u001b[0m\n\u001b[0;32m   1406\u001b[0m \n\u001b[0;32m   1407\u001b[0m \u001b[39m    \"\"\"\u001b[39;00m\n\u001b[1;32m-> 1408\u001b[0m     \u001b[39mreturn\u001b[39;00m \u001b[39mself\u001b[39;49m\u001b[39m.\u001b[39;49m_only_one_row(\n\u001b[0;32m   1409\u001b[0m         raise_for_second_row\u001b[39m=\u001b[39;49m\u001b[39mTrue\u001b[39;49;00m, raise_for_none\u001b[39m=\u001b[39;49m\u001b[39mTrue\u001b[39;49;00m, scalar\u001b[39m=\u001b[39;49m\u001b[39mFalse\u001b[39;49;00m\n\u001b[0;32m   1410\u001b[0m     )\n",
      "File \u001b[1;32mc:\\Users\\Kelly\\anaconda3\\lib\\site-packages\\sqlalchemy\\engine\\result.py:562\u001b[0m, in \u001b[0;36mResultInternal._only_one_row\u001b[1;34m(self, raise_for_second_row, raise_for_none, scalar)\u001b[0m\n\u001b[0;32m    560\u001b[0m \u001b[39mif\u001b[39;00m row \u001b[39mis\u001b[39;00m \u001b[39mNone\u001b[39;00m:\n\u001b[0;32m    561\u001b[0m     \u001b[39mif\u001b[39;00m raise_for_none:\n\u001b[1;32m--> 562\u001b[0m         \u001b[39mraise\u001b[39;00m exc\u001b[39m.\u001b[39mNoResultFound(\n\u001b[0;32m    563\u001b[0m             \u001b[39m\"\u001b[39m\u001b[39mNo row was found when one was required\u001b[39m\u001b[39m\"\u001b[39m\n\u001b[0;32m    564\u001b[0m         )\n\u001b[0;32m    565\u001b[0m     \u001b[39melse\u001b[39;00m:\n\u001b[0;32m    566\u001b[0m         \u001b[39mreturn\u001b[39;00m \u001b[39mNone\u001b[39;00m\n",
      "\u001b[1;31mNoResultFound\u001b[0m: No row was found when one was required"
     ]
    }
   ],
   "source": [
    "'''\n",
    "NoResultFound error\n",
    "'''\n",
    "user = query.filter(User.id == 99).one()"
   ]
  },
  {
   "cell_type": "code",
   "execution_count": 191,
   "metadata": {},
   "outputs": [
    {
     "name": "stdout",
     "output_type": "stream",
     "text": [
      "=============== No error raises, returns None ============\n",
      "2022-07-06 09:52:36,636 INFO sqlalchemy.engine.Engine SELECT users.id AS users_id, users.name AS users_name, users.fullname AS users_fullname, users.nickname AS users_nickname, users.date AS users_date \n",
      "FROM users \n",
      "WHERE users.name LIKE ? AND users.id = ?\n",
      "2022-07-06 09:52:36,637 INFO sqlalchemy.engine.Engine [cached since 377.4s ago] ('%ed', 99)\n",
      "None\n",
      "=============== error raises of multiple rows ============\n",
      "2022-07-06 09:52:36,639 INFO sqlalchemy.engine.Engine SELECT users.id AS users_id, users.name AS users_name, users.fullname AS users_fullname, users.nickname AS users_nickname, users.date AS users_date \n",
      "FROM users \n",
      "WHERE users.name LIKE ? AND users.name LIKE ?\n",
      "2022-07-06 09:52:36,640 INFO sqlalchemy.engine.Engine [cached since 99.62s ago] ('%ed', '%ed')\n"
     ]
    },
    {
     "ename": "MultipleResultsFound",
     "evalue": "Multiple rows were found when one or none was required",
     "output_type": "error",
     "traceback": [
      "\u001b[1;31m---------------------------------------------------------------------------\u001b[0m",
      "\u001b[1;31mMultipleResultsFound\u001b[0m                      Traceback (most recent call last)",
      "\u001b[1;32mc:\\Users\\Kelly\\Desktop\\x\\practices\\python_package\\sqlalchemy.ipynb Cell 39'\u001b[0m in \u001b[0;36m<cell line: 8>\u001b[1;34m()\u001b[0m\n\u001b[0;32m      <a href='vscode-notebook-cell:/c%3A/Users/Kelly/Desktop/x/practices/python_package/sqlalchemy.ipynb#ch0000058?line=5'>6</a>\u001b[0m \u001b[39mprint\u001b[39m(query\u001b[39m.\u001b[39mfilter(User\u001b[39m.\u001b[39mid \u001b[39m==\u001b[39m \u001b[39m99\u001b[39m)\u001b[39m.\u001b[39mone_or_none())\n\u001b[0;32m      <a href='vscode-notebook-cell:/c%3A/Users/Kelly/Desktop/x/practices/python_package/sqlalchemy.ipynb#ch0000058?line=6'>7</a>\u001b[0m \u001b[39mprint\u001b[39m(\u001b[39mf\u001b[39m\u001b[39m'\u001b[39m\u001b[39m=============== error raises of multiple rows ============\u001b[39m\u001b[39m'\u001b[39m)\n\u001b[1;32m----> <a href='vscode-notebook-cell:/c%3A/Users/Kelly/Desktop/x/practices/python_package/sqlalchemy.ipynb#ch0000058?line=7'>8</a>\u001b[0m \u001b[39mprint\u001b[39m(query\u001b[39m.\u001b[39;49mfilter(User\u001b[39m.\u001b[39;49mname\u001b[39m.\u001b[39;49mlike(\u001b[39m'\u001b[39;49m\u001b[39m%e\u001b[39;49;00m\u001b[39md\u001b[39;49m\u001b[39m'\u001b[39;49m))\u001b[39m.\u001b[39;49mone_or_none())\n",
      "File \u001b[1;32mc:\\Users\\Kelly\\anaconda3\\lib\\site-packages\\sqlalchemy\\orm\\query.py:2836\u001b[0m, in \u001b[0;36mQuery.one_or_none\u001b[1;34m(self)\u001b[0m\n\u001b[0;32m   2812\u001b[0m \u001b[39mdef\u001b[39;00m \u001b[39mone_or_none\u001b[39m(\u001b[39mself\u001b[39m):\n\u001b[0;32m   2813\u001b[0m     \u001b[39m\"\"\"Return at most one result or raise an exception.\u001b[39;00m\n\u001b[0;32m   2814\u001b[0m \n\u001b[0;32m   2815\u001b[0m \u001b[39m    Returns ``None`` if the query selects\u001b[39;00m\n\u001b[1;32m   (...)\u001b[0m\n\u001b[0;32m   2834\u001b[0m \n\u001b[0;32m   2835\u001b[0m \u001b[39m    \"\"\"\u001b[39;00m\n\u001b[1;32m-> 2836\u001b[0m     \u001b[39mreturn\u001b[39;00m \u001b[39mself\u001b[39;49m\u001b[39m.\u001b[39;49m_iter()\u001b[39m.\u001b[39;49mone_or_none()\n",
      "File \u001b[1;32mc:\\Users\\Kelly\\anaconda3\\lib\\site-packages\\sqlalchemy\\engine\\result.py:1396\u001b[0m, in \u001b[0;36mScalarResult.one_or_none\u001b[1;34m(self)\u001b[0m\n\u001b[0;32m   1388\u001b[0m \u001b[39mdef\u001b[39;00m \u001b[39mone_or_none\u001b[39m(\u001b[39mself\u001b[39m):\n\u001b[0;32m   1389\u001b[0m     \u001b[39m\"\"\"Return at most one object or raise an exception.\u001b[39;00m\n\u001b[0;32m   1390\u001b[0m \n\u001b[0;32m   1391\u001b[0m \u001b[39m    Equivalent to :meth:`_result.Result.one_or_none` except that\u001b[39;00m\n\u001b[1;32m   (...)\u001b[0m\n\u001b[0;32m   1394\u001b[0m \n\u001b[0;32m   1395\u001b[0m \u001b[39m    \"\"\"\u001b[39;00m\n\u001b[1;32m-> 1396\u001b[0m     \u001b[39mreturn\u001b[39;00m \u001b[39mself\u001b[39;49m\u001b[39m.\u001b[39;49m_only_one_row(\n\u001b[0;32m   1397\u001b[0m         raise_for_second_row\u001b[39m=\u001b[39;49m\u001b[39mTrue\u001b[39;49;00m, raise_for_none\u001b[39m=\u001b[39;49m\u001b[39mFalse\u001b[39;49;00m, scalar\u001b[39m=\u001b[39;49m\u001b[39mFalse\u001b[39;49;00m\n\u001b[0;32m   1398\u001b[0m     )\n",
      "File \u001b[1;32mc:\\Users\\Kelly\\anaconda3\\lib\\site-packages\\sqlalchemy\\engine\\result.py:614\u001b[0m, in \u001b[0;36mResultInternal._only_one_row\u001b[1;34m(self, raise_for_second_row, raise_for_none, scalar)\u001b[0m\n\u001b[0;32m    612\u001b[0m     \u001b[39mif\u001b[39;00m next_row \u001b[39mis\u001b[39;00m \u001b[39mnot\u001b[39;00m _NO_ROW:\n\u001b[0;32m    613\u001b[0m         \u001b[39mself\u001b[39m\u001b[39m.\u001b[39m_soft_close(hard\u001b[39m=\u001b[39m\u001b[39mTrue\u001b[39;00m)\n\u001b[1;32m--> 614\u001b[0m         \u001b[39mraise\u001b[39;00m exc\u001b[39m.\u001b[39mMultipleResultsFound(\n\u001b[0;32m    615\u001b[0m             \u001b[39m\"\u001b[39m\u001b[39mMultiple rows were found when exactly one was required\u001b[39m\u001b[39m\"\u001b[39m\n\u001b[0;32m    616\u001b[0m             \u001b[39mif\u001b[39;00m raise_for_none\n\u001b[0;32m    617\u001b[0m             \u001b[39melse\u001b[39;00m \u001b[39m\"\u001b[39m\u001b[39mMultiple rows were found when one or none \u001b[39m\u001b[39m\"\u001b[39m\n\u001b[0;32m    618\u001b[0m             \u001b[39m\"\u001b[39m\u001b[39mwas required\u001b[39m\u001b[39m\"\u001b[39m\n\u001b[0;32m    619\u001b[0m         )\n\u001b[0;32m    620\u001b[0m \u001b[39melse\u001b[39;00m:\n\u001b[0;32m    621\u001b[0m     next_row \u001b[39m=\u001b[39m _NO_ROW\n",
      "\u001b[1;31mMultipleResultsFound\u001b[0m: Multiple rows were found when one or none was required"
     ]
    }
   ],
   "source": [
    "'''\n",
    "one_or_none() except that if no results are found. it just retuns None.\n",
    "however, it does raise an error if multiple results are found\n",
    "'''\n",
    "print(f'=============== No error raises, returns None ============')\n",
    "print(query.filter(User.id == 99).one_or_none())\n",
    "print(f'=============== error raises of multiple rows ============')\n",
    "print(query.filter(User.name.like('%ed')).one_or_none())"
   ]
  },
  {
   "cell_type": "code",
   "execution_count": 197,
   "metadata": {},
   "outputs": [
    {
     "name": "stdout",
     "output_type": "stream",
     "text": [
      "2022-07-06 09:57:26,079 INFO sqlalchemy.engine.Engine SELECT users.id AS users_id \n",
      "FROM users \n",
      "WHERE users.name = ? ORDER BY users.id\n",
      "2022-07-06 09:57:26,079 INFO sqlalchemy.engine.Engine [cached since 177.6s ago] ('ed',)\n",
      "2022-07-06 09:57:26,080 INFO sqlalchemy.engine.Engine SELECT users.id AS users_id \n",
      "FROM users \n",
      "WHERE users.name = ? ORDER BY users.id\n",
      "2022-07-06 09:57:26,081 INFO sqlalchemy.engine.Engine [cached since 177.6s ago] ('ed',)\n"
     ]
    },
    {
     "data": {
      "text/plain": [
       "1"
      ]
     },
     "execution_count": 197,
     "metadata": {},
     "output_type": "execute_result"
    }
   ],
   "source": [
    "'''\n",
    ".one() returns no error or error\n",
    ".scalar() returns result or error\n",
    "'''\n",
    "query = session.query(User.id).filter(User.name == 'ed').\\\n",
    "   order_by(User.id)\n",
    "query.one()\n",
    "query.scalar()\n"
   ]
  },
  {
   "cell_type": "markdown",
   "metadata": {},
   "source": [
    "Using Textual SQL  \n",
    "https://docs.sqlalchemy.org/en/14/orm/tutorial.html#using-textual-sql\n",
    "It can take variables in a filter."
   ]
  },
  {
   "cell_type": "markdown",
   "metadata": {},
   "source": [
    "# End"
   ]
  },
  {
   "cell_type": "code",
   "execution_count": 169,
   "metadata": {},
   "outputs": [
    {
     "name": "stdout",
     "output_type": "stream",
     "text": [
      "2022-07-05 11:39:57,878 INFO sqlalchemy.engine.Engine ROLLBACK\n"
     ]
    }
   ],
   "source": [
    "session.close()"
   ]
  }
 ],
 "metadata": {
  "kernelspec": {
   "display_name": "Python 3.8.8 ('base')",
   "language": "python",
   "name": "python3"
  },
  "language_info": {
   "codemirror_mode": {
    "name": "ipython",
    "version": 3
   },
   "file_extension": ".py",
   "mimetype": "text/x-python",
   "name": "python",
   "nbconvert_exporter": "python",
   "pygments_lexer": "ipython3",
   "version": "3.9.12"
  },
  "vscode": {
   "interpreter": {
    "hash": "51480fad90fe9d21f60dbdf1474e71297e9cf7d519346d7c8ab062a40f50e1c0"
   }
  }
 },
 "nbformat": 4,
 "nbformat_minor": 2
}
