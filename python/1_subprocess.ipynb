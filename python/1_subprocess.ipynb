{
 "cells": [
  {
   "cell_type": "code",
   "execution_count": 1,
   "metadata": {},
   "outputs": [],
   "source": [
    "import subprocess"
   ]
  },
  {
   "cell_type": "code",
   "execution_count": 7,
   "metadata": {},
   "outputs": [
    {
     "name": "stdout",
     "output_type": "stream",
     "text": [
      "total 20\n",
      "drwxr-sr-x 4 jovyan users 4096 Apr 26 02:23 .\n",
      "drwxr-sr-x 3 jovyan users 4096 Apr 30 13:47 ..\n",
      "drwxr-sr-x 2 jovyan users 4096 Apr 26 02:23 01 Language\n",
      "drwxr-sr-x 2 jovyan users 4096 Apr 26 02:23 02 BuiltIn Functions\n",
      "-rw-r--r-- 1 jovyan users 1509 Apr 26 02:23 README.md\n",
      "CompletedProcess(args=['ls -al advanced_python'], returncode=0)\n",
      "==================================================\n"
     ]
    }
   ],
   "source": [
    "print(subprocess.run(['ls -al advanced_python'], shell=True, check=True))\n",
    "print(\"=\"*50)"
   ]
  },
  {
   "cell_type": "code",
   "execution_count": 6,
   "metadata": {},
   "outputs": [
    {
     "name": "stdout",
     "output_type": "stream",
     "text": [
      "total 240\n",
      "drwxr-sr-x 3 jovyan users  4096 Apr 30 13:47 .\n",
      "drwsrwsr-x 1 jovyan users  4096 Apr 28 01:01 ..\n",
      "-rw-r--r-- 1 jovyan users  1387 Apr 27 01:40 0_class_attr.py\n",
      "-rw-r--r-- 1 jovyan users 12348 Apr 26 02:23 0_class.ipynb\n",
      "-rw-r--r-- 1 jovyan users 11858 Apr 26 02:23 0_dictionary.ipynb\n",
      "-rw-r--r-- 1 jovyan users  5965 Apr 26 02:23 0_function.ipynb\n",
      "-rw-r--r-- 1 jovyan users  4859 Apr 30 13:25 1_datetime.ipynb\n",
      "-rw-r--r-- 1 jovyan users   210 Apr 26 02:23 1_glob.py\n",
      "-rw-r--r-- 1 jovyan users  7043 Apr 30 13:26 1_os.ipynb\n",
      "-rw-r--r-- 1 jovyan users  7573 Apr 26 02:23 1_pathlib.ipynb\n",
      "-rw-r--r-- 1 jovyan users     0 Apr 30 12:28 1_pickle.ipynb\n",
      "-rw-r--r-- 1 jovyan users   519 Apr 30 13:47 1_subprocess.ipynb\n",
      "-rw-r--r-- 1 jovyan users   248 Apr 26 02:23 1_sys.py\n",
      "-rw-r--r-- 1 jovyan users 28057 Apr 30 11:05 2_matplotlib.ipynb\n",
      "drwxr-sr-x 4 jovyan users  4096 Apr 26 02:23 advanced_python\n",
      "-rw-r--r-- 1 jovyan users  1100 Apr 26 02:23 b_module.ipynb\n",
      "-rw-r--r-- 1 jovyan users    48 Apr 26 02:23 b_mymo.0\n",
      "py\n",
      "-rw-r--r-- 1 jovyan users  1248 Apr 26 02:23 b_string_formatting.ipynb\n",
      "-rw-r--r-- 1 jovyan users  3136 Apr 26 02:23 b_yaml_test.ipynb\n",
      "-rw-r--r-- 1 jovyan users   113 Apr 26 02:23 b_yaml_test.py\n",
      "-rw-r--r-- 1 jovyan users   250 Apr 26 02:23 b_yaml_test.yaml\n",
      "-rw-r--r-- 1 jovyan users  5582 Apr 26 02:23 p_ipytest.ipynb\n",
      "-rw-r--r-- 1 jovyan users 40930 Apr 26 02:23 p_sqlalchemy.ipynb\n",
      "-rw-r--r-- 1 jovyan users   468 Apr 26 02:23 p_sqlite3_employee.py\n",
      "-rw-r--r-- 1 jovyan users  9431 Apr 26 02:23 p_sqlite3.ipynb\n",
      "-rw-r--r-- 1 jovyan users   241 Apr 28 00:52 # README.md\n",
      "-rw-r--r-- 1 jovyan users   137 Apr 26 02:23 test.py\n",
      "-rw-r--r-- 1 jovyan users   263 Apr 26 02:23 tp_04_Interface_design.py\n",
      "-rw-r--r-- 1 jovyan users   130 Apr 26 02:23 tp_05.py\n",
      "-rw-r--r-- 1 jovyan users  3237 Apr 26 02:23 tp_07.ipynb\n",
      "-rw-r--r-- 1 jovyan users   704 Apr 26 02:23 tp_09.py\n",
      "-rw-r--r-- 1 jovyan users  1031 Apr 26 02:23 tp_12.ipynb\n",
      "-rw-r--r-- 1 jovyan users  1954 Apr 26 02:23 tp_15.ipynb\n",
      "-rw-r--r-- 1 jovyan users   944 Apr 26 02:23 # virtual_environment.md\n"
     ]
    }
   ],
   "source": [
    "print(subprocess.call(['ls', '-al']))  "
   ]
  },
  {
   "cell_type": "code",
   "execution_count": null,
   "metadata": {},
   "outputs": [],
   "source": []
  }
 ],
 "metadata": {
  "kernelspec": {
   "display_name": "base",
   "language": "python",
   "name": "python3"
  },
  "language_info": {
   "codemirror_mode": {
    "name": "ipython",
    "version": 3
   },
   "file_extension": ".py",
   "mimetype": "text/x-python",
   "name": "python",
   "nbconvert_exporter": "python",
   "pygments_lexer": "ipython3",
   "version": "3.10.10"
  },
  "orig_nbformat": 4
 },
 "nbformat": 4,
 "nbformat_minor": 2
}
