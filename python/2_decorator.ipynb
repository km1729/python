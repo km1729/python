{
 "cells": [
  {
   "attachments": {},
   "cell_type": "markdown",
   "metadata": {},
   "source": [
    "## 데코레이터  \n",
    "  \n",
    "구글링을 해보면 기존의 기능을 유지하면서 새로운 기능 또는 행동을 추가 할 수 있다라고 많이 보인다.  \n",
    "한가지 예를 들어 보면 어떤 함수의 실행 시간을 측정하고자 할때, 함수의 전 후로 프린트와 시간을 측정하는 \n",
    "코드를 추가 하여 측정 할 수 있다.    \n",
    "```python\n",
    "print(\"start\")   \n",
    "start_time()  \n",
    "func()  \n",
    "end_time()  \n",
    "print(\"end\")\n",
    "```  \n",
    "시간을 측정하는 함수가 하나가 아니라 여러개 수십개면 그 때 마다 일일이 적어줘야 하는 번거로움이 있을 수 있는데  \n",
    "이것을 데코레이터 기능을 이용해서 해결 하는 방법이 있다. 아래와 같이 데코레이터 함수를 만들고, 만들어진 함수를 재사용 하는 것이다.    \n",
    "```python\n",
    "def decorator_func(func):\n",
    "    def wrapper():        \n",
    "        print(\"start\")   \n",
    "        start_time()  \n",
    "        func()  \n",
    "        end_time()  \n",
    "        print(\"end\")\n",
    "    return wrapper\n",
    "``` \n",
    "만들어진 데코레이터를 측정하려는 함수 위 에 추가 하면 시간을 측정하는 추가적인 코드가 필요하지 않게된다.  \n",
    "```python\n",
    "@decorator_func\n",
    "def calcurating_abcd():\n",
    "    ......\n",
    "```\n",
    "\n"
   ]
  },
  {
   "cell_type": "code",
   "execution_count": 8,
   "metadata": {},
   "outputs": [],
   "source": [
    "import time \n",
    "import math\n",
    "\n",
    "def time_check(func):\n",
    "    def wrapper(*args, **kwargs):\n",
    "        start_time = time.time()\n",
    "        func(*args,**kwargs)\n",
    "        end_time = time.time()\n",
    "        execution_time = end_time - start_time\n",
    "        print(f\"Execution time: {execution_time:.2f} second\")\n",
    "    return wrapper"
   ]
  },
  {
   "cell_type": "code",
   "execution_count": 9,
   "metadata": {},
   "outputs": [],
   "source": [
    "@time_check\n",
    "def cal_log(base, number):\n",
    "    result = math.log(number,base)\n",
    "    print(f\"The logarithm of {number} with base {base} is: {result}\")"
   ]
  },
  {
   "cell_type": "code",
   "execution_count": 13,
   "metadata": {},
   "outputs": [],
   "source": [
    "@time_check\n",
    "def sum(int):\n",
    "    result = 0\n",
    "    for i in range(int):\n",
    "        result +=i\n",
    "    print(result)"
   ]
  },
  {
   "cell_type": "code",
   "execution_count": 10,
   "metadata": {},
   "outputs": [
    {
     "name": "stdout",
     "output_type": "stream",
     "text": [
      "The logarithm of 1000 with base 10 is: 2.9999999999999996\n",
      "Execution time: 0.00 second\n"
     ]
    }
   ],
   "source": [
    "cal_log(10,1000)"
   ]
  },
  {
   "cell_type": "code",
   "execution_count": 22,
   "metadata": {},
   "outputs": [
    {
     "name": "stdout",
     "output_type": "stream",
     "text": [
      "49999995000000\n",
      "Execution time: 0.60 second\n"
     ]
    }
   ],
   "source": [
    "sum(10**7)"
   ]
  },
  {
   "cell_type": "code",
   "execution_count": 23,
   "metadata": {},
   "outputs": [
    {
     "name": "stdout",
     "output_type": "stream",
     "text": [
      "4999999950000000\n",
      "Execution time: 5.13 second\n"
     ]
    }
   ],
   "source": [
    "sum(10**8)"
   ]
  },
  {
   "cell_type": "code",
   "execution_count": null,
   "metadata": {},
   "outputs": [],
   "source": []
  }
 ],
 "metadata": {
  "kernelspec": {
   "display_name": "base",
   "language": "python",
   "name": "python3"
  },
  "language_info": {
   "codemirror_mode": {
    "name": "ipython",
    "version": 3
   },
   "file_extension": ".py",
   "mimetype": "text/x-python",
   "name": "python",
   "nbconvert_exporter": "python",
   "pygments_lexer": "ipython3",
   "version": "3.10.10"
  },
  "orig_nbformat": 4
 },
 "nbformat": 4,
 "nbformat_minor": 2
}
