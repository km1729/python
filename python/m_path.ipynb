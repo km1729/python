{
 "cells": [
  {
   "cell_type": "code",
   "execution_count": 25,
   "metadata": {},
   "outputs": [],
   "source": [
    "from pathlib import Path\n",
    "from pathlib import PurePosixPath\n",
    "import os\n",
    "\n",
    "# 파이썬 3.4부터 내장함수로 pathlib가 추가됨. 그전에는 os 모듈 사용\n",
    "# pathlib: 객체, 파일위치 찾기, 파일 입출력\n",
    "# pathlib 에서 제일 많이 쓰는것은 Path 클래스"
   ]
  },
  {
   "cell_type": "code",
   "execution_count": 18,
   "metadata": {},
   "outputs": [
    {
     "name": "stdout",
     "output_type": "stream",
     "text": [
      "/home/jovyan\n",
      "/home/jovyan/code/ML\n",
      "/home/jovyan/code/ML\n",
      "/home/jovyan/code/ML\n"
     ]
    }
   ],
   "source": [
    "# script 현재 경로\n",
    "print(Path.home())\n",
    "print(Path.cwd())\n",
    "os.chdir('../ML') # ML 경로변경\n",
    "print(Path.cwd())\n",
    "print(os.getcwd())\n"
   ]
  },
  {
   "cell_type": "code",
   "execution_count": 23,
   "metadata": {},
   "outputs": [
    {
     "name": "stdout",
     "output_type": "stream",
     "text": [
      "../ML\n",
      "../ML/book_auto-mpg_1.ipynb\n",
      "../ML/book_auto-mpg_2.ipynb\n",
      "../ML/boston.csv\n",
      "../ML/Boston.ipynb\n",
      "../ML/iris.ipynb\n",
      "../ML/lemonade.ipynb\n",
      "../ML/lossfunction.ipynb\n"
     ]
    }
   ],
   "source": [
    "# 디렉토리/폴더 경로 읽기\n",
    "dpath= '../ML'\n",
    "p = Path(dpath)\n",
    "print(p)\n",
    "\n",
    "if os.path.exists(dpath):\n",
    "    pass\n",
    "\n",
    "f_list = list(p.glob('**/*'))\n",
    "for f in f_list:\n",
    "    print(f)"
   ]
  },
  {
   "cell_type": "code",
   "execution_count": 19,
   "metadata": {},
   "outputs": [
    {
     "ename": "FileNotFoundError",
     "evalue": "[Errno 2] No such file or directory: '../../automation/DOCUMENTS/FailFile.txt'",
     "output_type": "error",
     "traceback": [
      "\u001b[0;31m---------------------------------------------------------------------------\u001b[0m",
      "\u001b[0;31mFileNotFoundError\u001b[0m                         Traceback (most recent call last)",
      "\u001b[1;32m/home/jovyan/code/python/m_path.ipynb Cell 4\u001b[0m in \u001b[0;36m<cell line: 4>\u001b[0;34m()\u001b[0m\n\u001b[1;32m      <a href='vscode-notebook-cell://attached-container%2B7b22636f6e7461696e65724e616d65223a222f707974686f6e2d7374756479227d/home/jovyan/code/python/m_path.ipynb#W4sdnNjb2RlLXJlbW90ZQ%3D%3D?line=1'>2</a>\u001b[0m file_path\u001b[39m=\u001b[39m(\u001b[39m'\u001b[39m\u001b[39m../../automation/DOCUMENTS/FailFile.txt\u001b[39m\u001b[39m'\u001b[39m)\n\u001b[1;32m      <a href='vscode-notebook-cell://attached-container%2B7b22636f6e7461696e65724e616d65223a222f707974686f6e2d7374756479227d/home/jovyan/code/python/m_path.ipynb#W4sdnNjb2RlLXJlbW90ZQ%3D%3D?line=2'>3</a>\u001b[0m fpath \u001b[39m=\u001b[39m Path(file_path)\n\u001b[0;32m----> <a href='vscode-notebook-cell://attached-container%2B7b22636f6e7461696e65724e616d65223a222f707974686f6e2d7374756479227d/home/jovyan/code/python/m_path.ipynb#W4sdnNjb2RlLXJlbW90ZQ%3D%3D?line=3'>4</a>\u001b[0m file \u001b[39m=\u001b[39m fpath\u001b[39m.\u001b[39;49mopen(\u001b[39m'\u001b[39;49m\u001b[39mr\u001b[39;49m\u001b[39m'\u001b[39;49m)\n\u001b[1;32m      <a href='vscode-notebook-cell://attached-container%2B7b22636f6e7461696e65724e616d65223a222f707974686f6e2d7374756479227d/home/jovyan/code/python/m_path.ipynb#W4sdnNjb2RlLXJlbW90ZQ%3D%3D?line=4'>5</a>\u001b[0m \u001b[39mprint\u001b[39m(\u001b[39mf\u001b[39m\u001b[39m'\u001b[39m\u001b[39mopen \u001b[39m\u001b[39m{\u001b[39;00mfile\u001b[39m}\u001b[39;00m\u001b[39m'\u001b[39m)\n",
      "File \u001b[0;32m/opt/conda/lib/python3.10/pathlib.py:1119\u001b[0m, in \u001b[0;36mPath.open\u001b[0;34m(self, mode, buffering, encoding, errors, newline)\u001b[0m\n\u001b[1;32m   1117\u001b[0m \u001b[39mif\u001b[39;00m \u001b[39m\"\u001b[39m\u001b[39mb\u001b[39m\u001b[39m\"\u001b[39m \u001b[39mnot\u001b[39;00m \u001b[39min\u001b[39;00m mode:\n\u001b[1;32m   1118\u001b[0m     encoding \u001b[39m=\u001b[39m io\u001b[39m.\u001b[39mtext_encoding(encoding)\n\u001b[0;32m-> 1119\u001b[0m \u001b[39mreturn\u001b[39;00m \u001b[39mself\u001b[39;49m\u001b[39m.\u001b[39;49m_accessor\u001b[39m.\u001b[39;49mopen(\u001b[39mself\u001b[39;49m, mode, buffering, encoding, errors,\n\u001b[1;32m   1120\u001b[0m                            newline)\n",
      "\u001b[0;31mFileNotFoundError\u001b[0m: [Errno 2] No such file or directory: '../../automation/DOCUMENTS/FailFile.txt'"
     ]
    }
   ],
   "source": [
    "# file\n",
    "file_path=('../../automation/DOCUMENTS/FailFile.txt')\n",
    "fpath = Path(file_path)\n",
    "file = fpath.open('r')\n",
    "print(f'open {file}')"
   ]
  },
  {
   "cell_type": "code",
   "execution_count": 27,
   "metadata": {},
   "outputs": [
    {
     "name": "stdout",
     "output_type": "stream",
     "text": [
      "../../automation/DOCUMENTS/FailFile.txt\n",
      "FailFile.txt\n",
      "../../automation/DOCUMENTS\n",
      "['.txt']\n",
      "FailFile\n",
      ".txt\n",
      "('..', '..', 'automation', 'DOCUMENTS', 'FailFile.txt')\n"
     ]
    }
   ],
   "source": [
    "# 파일 경로 짜르기\n",
    "p_obj = PurePosixPath(\"../../automation/DOCUMENTS/FailFile.txt\")\n",
    "print(p_obj)\n",
    "print(p_obj.name)\n",
    "print(p_obj.parent)\n",
    "print(p_obj.suffixes)\n",
    "print(p_obj.stem)\n",
    "print(p_obj.suffix)\n",
    "print(p_obj.parts)"
   ]
  },
  {
   "cell_type": "code",
   "execution_count": 29,
   "metadata": {},
   "outputs": [
    {
     "name": "stdout",
     "output_type": "stream",
     "text": [
      "dir/sub_dir_name/file_name\n",
      "dir/sub_dir_name/file_name\n",
      "/home/jovyan/code/python\n"
     ]
    }
   ],
   "source": [
    " ## 경로 만들기\n",
    "dir_name = 'dir'\n",
    "sub_dir_name = 'sub_dir_name'\n",
    "file_name = 'file_name'\n",
    "\n",
    "# 기존 (os.path)\n",
    "file = os.path.join(dir_name, sub_dir_name, file_name)\n",
    "print(file)\n",
    "\n",
    "# pathlib\n",
    "dir = Path(dir_name)\n",
    "pfile = dir / sub_dir_name / file_name\n",
    "print(pfile)\n",
    "\n",
    "path=Path.home()\n",
    "docs = path/'code'/'python'\n",
    "print(docs)"
   ]
  },
  {
   "cell_type": "markdown",
   "metadata": {},
   "source": [
    "Reference  \n",
    "나선생 코딩랩 [https://blog.naver.com/PostView.nhn?blogId=hankrah&logNo=221838907175&categoryNo=0&parentCategoryNo=0&viewDate=&currentPage=1&postListTopCurrentPage=1&from=postView]"
   ]
  },
  {
   "cell_type": "markdown",
   "metadata": {},
   "source": []
  }
 ],
 "metadata": {
  "kernelspec": {
   "display_name": "Python 3.9.12 ('base')",
   "language": "python",
   "name": "python3"
  },
  "language_info": {
   "codemirror_mode": {
    "name": "ipython",
    "version": 3
   },
   "file_extension": ".py",
   "mimetype": "text/x-python",
   "name": "python",
   "nbconvert_exporter": "python",
   "pygments_lexer": "ipython3",
   "version": "3.10.6"
  },
  "orig_nbformat": 4,
  "vscode": {
   "interpreter": {
    "hash": "51480fad90fe9d21f60dbdf1474e71297e9cf7d519346d7c8ab062a40f50e1c0"
   }
  }
 },
 "nbformat": 4,
 "nbformat_minor": 2
}
