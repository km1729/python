{
 "cells": [
  {
   "attachments": {},
   "cell_type": "markdown",
   "metadata": {},
   "source": [
    "os 모듈은 운영체제에서 사용하는 기능을 파이썬으로 제어할 수 있게 만들어주는 모듈이다.  \n",
    "예를 들면 파일/디렉토리의 생성과 삭제, 파일이 생성과 변경된 정보 알아내기, 운영체제 정보 등을 제어 할 수 있다  "
   ]
  },
  {
   "cell_type": "code",
   "execution_count": 37,
   "metadata": {},
   "outputs": [],
   "source": [
    "import os"
   ]
  },
  {
   "cell_type": "code",
   "execution_count": 38,
   "metadata": {},
   "outputs": [
    {
     "name": "stdout",
     "output_type": "stream",
     "text": [
      "<posix.ScandirIterator object at 0x7f3fe9c371a0>\n",
      "<posix.ScandirIterator object at 0x7f3fe9c371a0>\n"
     ]
    }
   ],
   "source": [
    "# 디렉토리의 파일 목록\n",
    "# path를 입력하여 디렉토리를 변경 할 수 있다.\n",
    "# 트리 형식 (서브폴더)의 내용은 확인이 안되는것 같다\n",
    "print(os.scandir('../'))\n",
    "print(os.scandir())"
   ]
  },
  {
   "cell_type": "code",
   "execution_count": 49,
   "metadata": {},
   "outputs": [
    {
     "name": "stdout",
     "output_type": "stream",
     "text": [
      "/home/jovyan/work/python\n",
      "/home/jovyan/work\n"
     ]
    }
   ],
   "source": [
    "# 현재 디렉토리 확인\n",
    "# 디렉토리 변경\n",
    "print(os.getcwd())\n",
    "os.chdir('/home/jovyan/work/')\n",
    "print(os.getcwd())"
   ]
  },
  {
   "cell_type": "code",
   "execution_count": 48,
   "metadata": {},
   "outputs": [],
   "source": [
    "# 디렉토리 생성\n",
    "# 디렉토리 삭제\n",
    "# 디렉토리 복수 생성시 리눅스는 -p path/to/path 에서 중복되는 폴더는 무시하고 하위 폴더 생성이 가능하나\n",
    "# mkdir 과 makedirs에서는 중복해서 생성이 안됨\n",
    "# 디렉토리 삭제\n",
    "os.mkdir('./02')\n",
    "os.makedirs('./03/test1')\n",
    "os.rmdir('02')\n",
    "os.rmdir('./03/test1')\n",
    "os.rmdir('03')\n",
    "os.removedirs('./03/test1')\n"
   ]
  },
  {
   "cell_type": "code",
   "execution_count": null,
   "metadata": {},
   "outputs": [],
   "source": [
    "# 파일 이름 변경\n",
    "os.renames('old/path/file','new/path/file/name')\n",
    "os.replace('src','dst/src')"
   ]
  },
  {
   "cell_type": "code",
   "execution_count": null,
   "metadata": {},
   "outputs": [],
   "source": [
    "# 파일 / 디렉토리 존재 유무\n",
    "os.path.exists('path') #return TRUE\n",
    "os.path.isfile('path') #return TRUE\n",
    "os.path.isdir('path') #return TRUE"
   ]
  },
  {
   "cell_type": "code",
   "execution_count": 19,
   "metadata": {},
   "outputs": [
    {
     "data": {
      "text/plain": [
       "os.stat_result(st_mode=17901, st_ino=320150, st_dev=254, st_nlink=3, st_uid=1000, st_gid=100, st_size=4096, st_atime=1682855597, st_mtime=1682855596, st_ctime=1682855596)"
      ]
     },
     "execution_count": 19,
     "metadata": {},
     "output_type": "execute_result"
    }
   ],
   "source": [
    "os.stat('/home/jovyan/work/python')"
   ]
  },
  {
   "attachments": {},
   "cell_type": "markdown",
   "metadata": {},
   "source": [
    "os.scandir() os.dirEntry 오브젝트 이터레이터 반환  \n",
    "dirEntry는 파일에 대한 여러 메타 정보들이 들어있다.  \n",
    "- name\n",
    "- path\n",
    "- inode()\n",
    "- is_dir()\n",
    "- is_file()\n",
    "- is_symlink()\n",
    "- stat (st_mode, st_ino, st_dev, st_nlink, st_uid, st_gid, st_size, st_atime, st_mtime, st_ctime)\n",
    "    - ctime - the last time the file's inode was changed (e.g. permissions changed, file renamed, etc..)\n",
    "    - mtime - last time the file's CONTENTS were changed\n",
    "    - atime - last time the file was accessed."
   ]
  },
  {
   "cell_type": "code",
   "execution_count": 73,
   "metadata": {},
   "outputs": [
    {
     "name": "stdout",
     "output_type": "stream",
     "text": [
      "<posix.ScandirIterator object at 0x7f3fe9cde100>\n"
     ]
    }
   ],
   "source": [
    "obj = os.scandir()\n",
    "print(obj)"
   ]
  },
  {
   "cell_type": "code",
   "execution_count": 74,
   "metadata": {},
   "outputs": [
    {
     "name": "stdout",
     "output_type": "stream",
     "text": [
      "tensorflow\n",
      "\n",
      "1682475784.47037\n",
      "2023-04-26 02:23:04.470370\n",
      "automation\n",
      "\n",
      "1682475784.46037\n",
      "2023-04-26 02:23:04.460370\n",
      "shell-script\n",
      "\n",
      "1682475784.47037\n",
      "2023-04-26 02:23:04.470370\n",
      ".gitignore\n",
      "\n",
      "1682475784.45037\n",
      "2023-04-26 02:23:04.450370\n",
      "flask\n",
      "\n",
      "1682475784.47037\n",
      "2023-04-26 02:23:04.470370\n",
      "README.md\n",
      "\n",
      "1682560212.113023\n",
      "2023-04-27 01:50:12.113023\n",
      "ML\n",
      "\n",
      "1682475784.46037\n",
      "2023-04-26 02:23:04.460370\n",
      ".git\n",
      "\n",
      "1682855630.918095\n",
      "2023-04-30 11:53:50.918095\n",
      ".docker\n",
      "\n",
      "1682476649.97619\n",
      "2023-04-26 02:37:29.976190\n",
      "ssg\n",
      "\n",
      "1682475784.47037\n",
      "2023-04-26 02:23:04.470370\n",
      "file_format\n",
      "\n",
      "1682475784.47037\n",
      "2023-04-26 02:23:04.470370\n",
      "file\n",
      "\n",
      "1682475784.46037\n",
      "2023-04-26 02:23:04.460370\n",
      "python\n",
      "\n",
      "1682858412.800088\n",
      "2023-04-30 12:40:12.800088\n",
      ".vscode\n",
      "\n",
      "1682475784.45037\n",
      "2023-04-26 02:23:04.450370\n",
      "Pandas\n",
      "\n",
      "1682652163.0484452\n",
      "2023-04-28 03:22:43.048445\n",
      "conda\n",
      "\n",
      "1682551516.7189982\n",
      "2023-04-26 23:25:16.718998\n"
     ]
    }
   ],
   "source": [
    "import datetime\n",
    "\n",
    "for entry in obj:\n",
    "    # print(entry.path)\n",
    "    # print(entry.inode())\n",
    "    print(entry.name)\n",
    "    print()\n",
    "    print(entry.stat().st_ctime)\n",
    "    print(datetime.datetime.fromtimestamp(entry.stat().st_ctime))"
   ]
  },
  {
   "cell_type": "code",
   "execution_count": 21,
   "metadata": {},
   "outputs": [
    {
     "data": {
      "text/plain": [
       "'linux'"
      ]
     },
     "execution_count": 21,
     "metadata": {},
     "output_type": "execute_result"
    }
   ],
   "source": [
    "import sys\n",
    "sys.platform"
   ]
  }
 ],
 "metadata": {
  "kernelspec": {
   "display_name": "base",
   "language": "python",
   "name": "python3"
  },
  "language_info": {
   "codemirror_mode": {
    "name": "ipython",
    "version": 3
   },
   "file_extension": ".py",
   "mimetype": "text/x-python",
   "name": "python",
   "nbconvert_exporter": "python",
   "pygments_lexer": "ipython3",
   "version": "3.10.10"
  },
  "orig_nbformat": 4
 },
 "nbformat": 4,
 "nbformat_minor": 2
}
