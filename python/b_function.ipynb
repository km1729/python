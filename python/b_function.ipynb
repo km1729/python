{
 "cells": [
  {
   "cell_type": "code",
   "execution_count": 1,
   "metadata": {},
   "outputs": [],
   "source": [
    "def hello():\n",
    "    print(\"hello\")"
   ]
  },
  {
   "cell_type": "code",
   "execution_count": 2,
   "metadata": {},
   "outputs": [
    {
     "data": {
      "text/plain": [
       "1761625218784"
      ]
     },
     "execution_count": 2,
     "metadata": {},
     "output_type": "execute_result"
    }
   ],
   "source": [
    "id(hello)"
   ]
  },
  {
   "cell_type": "code",
   "execution_count": 3,
   "metadata": {},
   "outputs": [
    {
     "name": "stdout",
     "output_type": "stream",
     "text": [
      "hello\n"
     ]
    }
   ],
   "source": [
    "f = hello\n",
    "f()"
   ]
  },
  {
   "cell_type": "code",
   "execution_count": 4,
   "metadata": {},
   "outputs": [
    {
     "name": "stdout",
     "output_type": "stream",
     "text": [
      "호출 됨\n"
     ]
    }
   ],
   "source": [
    "class Func:\n",
    "    def __call__(self):\n",
    "        print(\"호출 됨\")\n",
    "\n",
    "\n",
    "f = Func()\n",
    "f()"
   ]
  },
  {
   "cell_type": "markdown",
   "metadata": {},
   "source": [
    "Positional variable argument (*args)  \n",
    "Keyword variable arguments(**kwargs)  "
   ]
  },
  {
   "cell_type": "code",
   "execution_count": 12,
   "metadata": {},
   "outputs": [],
   "source": [
    "def foo (*args):\n",
    "    print(args)\n",
    "\n",
    "def foo2 (**kwargs):\n",
    "    print(kwargs)\n",
    "\n",
    "def foo3 (*args, **kwargs):\n",
    "    print(f'{args} \\n')\n",
    "    print(kwargs)"
   ]
  },
  {
   "cell_type": "code",
   "execution_count": 11,
   "metadata": {},
   "outputs": [
    {
     "name": "stdout",
     "output_type": "stream",
     "text": [
      "('hi', 'who')\n",
      "None\n",
      "('dx2', 'dp9')\n",
      "None\n",
      "{'project1': 'dx2', 'project2': 'dp9', 'a': 1}\n",
      "None\n"
     ]
    }
   ],
   "source": [
    "print(foo('hi','who'))\n",
    "print(foo('dx2','dp9'))\n",
    "print(foo2(project1='dx2',project2='dp9', a=1))"
   ]
  },
  {
   "cell_type": "code",
   "execution_count": 13,
   "metadata": {},
   "outputs": [
    {
     "name": "stdout",
     "output_type": "stream",
     "text": [
      "(1, 2, 3, 4, 5, 6, 7, 8, 10) \n",
      "\n",
      "{'a': 1, 'b': 3}\n"
     ]
    }
   ],
   "source": [
    "foo3(1,2,3,4,5,6,7,8,10, a=1, b=3)"
   ]
  },
  {
   "cell_type": "code",
   "execution_count": 17,
   "metadata": {},
   "outputs": [
    {
     "name": "stdout",
     "output_type": "stream",
     "text": [
      "(1, 2, 3)\n",
      "None\n",
      "{'a': 1, 'b': 3, 'c': 5}\n",
      "None\n",
      "(1, 2, 3) \n",
      "\n",
      "{'a': 1, 'b': 3, 'c': 5}\n",
      "None\n"
     ]
    }
   ],
   "source": [
    "# take variable argument \n",
    "data = [1,2,3]\n",
    "data2={'a':1, 'b':3,'c':5}\n",
    "print(foo(*data))\n",
    "print(foo2(**data2))\n",
    "print(foo3(*data,**data2))"
   ]
  },
  {
   "cell_type": "markdown",
   "metadata": {},
   "source": [
    "Lambda 함수  "
   ]
  },
  {
   "cell_type": "code",
   "execution_count": 19,
   "metadata": {},
   "outputs": [
    {
     "data": {
      "text/plain": [
       "3"
      ]
     },
     "execution_count": 19,
     "metadata": {},
     "output_type": "execute_result"
    }
   ],
   "source": [
    "# lambda : 간단한 형태의 함수\n",
    "# lambda 다음에 x (입력) ;(콜론) 이후의 표현식이 함수이며 이값이 리턴된다\n",
    "\n",
    "a = lambda x: x + 1\n",
    "\n",
    "a(2)"
   ]
  },
  {
   "cell_type": "markdown",
   "metadata": {},
   "source": [
    "내장 함수  \n",
    "hasattr(객체이름, 이름) 문자열 타임의 이름ㅇ ㅣ존재하면 True 그렇지 않으면 False    \n",
    "getattr"
   ]
  },
  {
   "cell_type": "code",
   "execution_count": 22,
   "metadata": {},
   "outputs": [
    {
     "name": "stdout",
     "output_type": "stream",
     "text": [
      "True\n",
      "True\n"
     ]
    }
   ],
   "source": [
    "class Car:\n",
    "    def __init__(self):\n",
    "        self.wheels = 4\n",
    "    \n",
    "    def drive(self):\n",
    "        print(\"drive\")\n",
    "\n",
    "mycar = Car()\n",
    "print(hasattr(mycar, \"wheels\"))\n",
    "print(hasattr(mycar,\"drive\"))\n"
   ]
  },
  {
   "cell_type": "code",
   "execution_count": 23,
   "metadata": {},
   "outputs": [
    {
     "data": {
      "text/plain": [
       "<bound method Car.drive of <__main__.Car object at 0x0000019A290B81C0>>"
      ]
     },
     "execution_count": 23,
     "metadata": {},
     "output_type": "execute_result"
    }
   ],
   "source": [
    "getattr(mycar, \"drive\")"
   ]
  },
  {
   "cell_type": "code",
   "execution_count": null,
   "metadata": {},
   "outputs": [],
   "source": []
  }
 ],
 "metadata": {
  "kernelspec": {
   "display_name": "Python 3.9.12 ('base')",
   "language": "python",
   "name": "python3"
  },
  "language_info": {
   "codemirror_mode": {
    "name": "ipython",
    "version": 3
   },
   "file_extension": ".py",
   "mimetype": "text/x-python",
   "name": "python",
   "nbconvert_exporter": "python",
   "pygments_lexer": "ipython3",
   "version": "3.9.12"
  },
  "orig_nbformat": 4,
  "vscode": {
   "interpreter": {
    "hash": "51480fad90fe9d21f60dbdf1474e71297e9cf7d519346d7c8ab062a40f50e1c0"
   }
  }
 },
 "nbformat": 4,
 "nbformat_minor": 2
}
