{
 "cells": [
  {
   "cell_type": "code",
   "execution_count": 2,
   "metadata": {},
   "outputs": [],
   "source": [
    "import datetime as dt\n",
    "\n",
    "# timedelta\n",
    "# date\n",
    "# time\n",
    "# datetime\n",
    "# tzinfo\n",
    "# timezone"
   ]
  },
  {
   "attachments": {},
   "cell_type": "markdown",
   "metadata": {},
   "source": [
    "# timedelta  \n",
    "represents a duration, the different between two dates or times.  \n",
    "class datetime.timedelta(days=0, seconds=0, microseconds=0, milliseconds=0, minutes=0, hours=0, weeks=0)  "
   ]
  },
  {
   "cell_type": "code",
   "execution_count": 12,
   "metadata": {},
   "outputs": [
    {
     "name": "stdout",
     "output_type": "stream",
     "text": [
      "50 days, 0:00:00\n",
      "2023-04-27\n"
     ]
    }
   ],
   "source": [
    "delta = dt.timedelta(days=50)\n",
    "nowday = dt.date.today()\n",
    "print(delta)\n",
    "print(nowday)"
   ]
  },
  {
   "cell_type": "code",
   "execution_count": 10,
   "metadata": {},
   "outputs": [
    {
     "name": "stdout",
     "output_type": "stream",
     "text": [
      "2023-04-27\n",
      "2023-06-16\n"
     ]
    }
   ],
   "source": [
    "print(nowday)\n",
    "print(nowday+delta)"
   ]
  },
  {
   "attachments": {},
   "cell_type": "markdown",
   "metadata": {},
   "source": [
    "# date  \n",
    "represents a date\n",
    "class datetime.date(year, month, day)  "
   ]
  },
  {
   "cell_type": "code",
   "execution_count": 16,
   "metadata": {},
   "outputs": [
    {
     "name": "stdout",
     "output_type": "stream",
     "text": [
      "2022-04-01\n",
      "4\n"
     ]
    }
   ],
   "source": [
    "print(dt.date(2022,4,1))\n",
    "nowday = dt.date.today()\n",
    "print(nowday)\n",
    "print (dt.date.isoweekday(nowday))"
   ]
  },
  {
   "attachments": {},
   "cell_type": "markdown",
   "metadata": {},
   "source": [
    "# Datetime  \n",
    "- strptime() 문자를 datetime으로 변화  \n",
    "- strftime() 시간의 서식을 지정해 날짜 형식을 변경할 수 있다\n",
    "- tzname()"
   ]
  },
  {
   "cell_type": "code",
   "execution_count": 8,
   "metadata": {},
   "outputs": [
    {
     "data": {
      "text/plain": [
       "datetime.datetime(2022, 1, 31, 0, 0)"
      ]
     },
     "execution_count": 8,
     "metadata": {},
     "output_type": "execute_result"
    }
   ],
   "source": [
    "d1 = '20220131'\n",
    "dt.datetime.strptime(d1,'%Y%m%d')"
   ]
  },
  {
   "cell_type": "code",
   "execution_count": 9,
   "metadata": {},
   "outputs": [
    {
     "name": "stdout",
     "output_type": "stream",
     "text": [
      "2022-01-31\n",
      "00:00:00\n"
     ]
    }
   ],
   "source": [
    "print(dt.datetime.strptime(d1,'%Y%m%d').date())\n",
    "print(dt.datetime.strptime(d1,'%Y%m%d').time())"
   ]
  },
  {
   "cell_type": "code",
   "execution_count": 11,
   "metadata": {},
   "outputs": [
    {
     "name": "stdout",
     "output_type": "stream",
     "text": [
      "2022-05-14\n",
      "12:54:12\n"
     ]
    }
   ],
   "source": [
    "d3 = '20220514125412'\n",
    "d4=dt.datetime.strptime(d3,'%Y%m%d%H%M%S')\n",
    "print(d4.date())\n",
    "print(d4.time())"
   ]
  },
  {
   "cell_type": "code",
   "execution_count": 6,
   "metadata": {},
   "outputs": [
    {
     "name": "stdout",
     "output_type": "stream",
     "text": [
      "20220630135642+1000\n",
      "2022-06-30 13:56:42+10:00\n",
      "UTC+10:00\n",
      "<class 'datetime.datetime'>\n"
     ]
    }
   ],
   "source": [
    "d5 = '20220630135642'\n",
    "d8 = d5+'+1000'\n",
    "print(d8)\n",
    "d9 = dt.datetime.strptime(d8, '%Y%m%d%H%M%S%z')\n",
    "print(d9)\n",
    "print(d9.tzname())\n",
    "print(type(d9))"
   ]
  },
  {
   "cell_type": "code",
   "execution_count": 12,
   "metadata": {},
   "outputs": [
    {
     "name": "stdout",
     "output_type": "stream",
     "text": [
      "2022-06-30\n",
      "2022/06/30\n"
     ]
    }
   ],
   "source": [
    "print(d9.strftime('%Y-%m-%d'))\n",
    "print(d9.strftime('%Y/%m/%d'))"
   ]
  },
  {
   "attachments": {},
   "cell_type": "markdown",
   "metadata": {},
   "source": [
    "# Time"
   ]
  },
  {
   "cell_type": "code",
   "execution_count": null,
   "metadata": {},
   "outputs": [],
   "source": []
  }
 ],
 "metadata": {
  "kernelspec": {
   "display_name": "Python 3",
   "language": "python",
   "name": "python3"
  },
  "language_info": {
   "codemirror_mode": {
    "name": "ipython",
    "version": 3
   },
   "file_extension": ".py",
   "mimetype": "text/x-python",
   "name": "python",
   "nbconvert_exporter": "python",
   "pygments_lexer": "ipython3",
   "version": "3.10.10"
  },
  "vscode": {
   "interpreter": {
    "hash": "2b88079544c908de0af3fef56119d39da0bc736d40dc3d04387304d3f6be4e46"
   }
  }
 },
 "nbformat": 4,
 "nbformat_minor": 2
}
