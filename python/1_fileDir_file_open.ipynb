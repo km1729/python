{
 "cells": [
  {
   "cell_type": "code",
   "execution_count": 1,
   "metadata": {},
   "outputs": [],
   "source": [
    "import yaml\n",
    "\n",
    "with open('config.yml', 'r') as f:\n",
    "    config = yaml.safe_load(f)"
   ]
  },
  {
   "cell_type": "code",
   "execution_count": 2,
   "metadata": {},
   "outputs": [],
   "source": [
    "dir = config['fileloc']['dir']\n",
    "txt_file = config['fileloc']['txt_file']\n",
    "file_path1 = f\"{dir}{txt_file}\""
   ]
  },
  {
   "cell_type": "markdown",
   "metadata": {},
   "source": [
    "# Text read, write, append ('r', 'w', 'a')"
   ]
  },
  {
   "cell_type": "code",
   "execution_count": 3,
   "metadata": {},
   "outputs": [
    {
     "name": "stdout",
     "output_type": "stream",
     "text": [
      "Line 1: This is the first line.\n",
      "Line 2: This is the second line.\n",
      "Line 3: This is the third line.\n",
      "Line 4: This is the fourth line.\n",
      "Line 5: This is the fifth line.\n"
     ]
    }
   ],
   "source": [
    "# Read Mode: read mode if the file doesn't exist, it raises a 'FileNotFoundError'\n",
    "with open(file_path1, 'r') as f:\n",
    "    content = f.read()\n",
    "\n",
    "print(content)"
   ]
  },
  {
   "cell_type": "code",
   "execution_count": 4,
   "metadata": {
    "scrolled": true
   },
   "outputs": [
    {
     "name": "stdout",
     "output_type": "stream",
     "text": [
      "Line 1: This is the first line.\n",
      "Line 2: This is the second line.\n",
      "Line 3: This is the third line.\n",
      "Line 4: This is the fourth line.\n",
      "Line 5: This is the fifth line.\n"
     ]
    }
   ],
   "source": [
    "with open(f\"{config['fileloc']['dir']}/txt_file.txt\", 'r') as f:\n",
    "    content = f.read()\n",
    "    print(content)"
   ]
  },
  {
   "cell_type": "code",
   "execution_count": 5,
   "metadata": {},
   "outputs": [],
   "source": [
    "# Write Mode: opens the file for writing. If the file exists, it truncates(clears) it content. \n",
    "# if it doesn't exist, it creates a new empty file\n",
    "with open(f\"{config['fileloc']['dir']}/txt_file2.txt\", 'w') as f:\n",
    "    f.write(\"Hello, world!\")"
   ]
  },
  {
   "cell_type": "code",
   "execution_count": 6,
   "metadata": {},
   "outputs": [],
   "source": [
    "# Append Mode: it doesn't truncate if it already exists\n",
    "with open(f\"{config['fileloc']['dir']}/txt_file2.txt\", 'a') as f:\n",
    "    f.write(\"/nHello, world3!\")"
   ]
  },
  {
   "cell_type": "markdown",
   "metadata": {},
   "source": [
    "# Binary read and write ('rb')"
   ]
  },
  {
   "cell_type": "code",
   "execution_count": 7,
   "metadata": {},
   "outputs": [],
   "source": [
    "with open(f\"{config['fileloc']['dir']}/cat.jpg\", 'rb') as binary_file:\n",
    "    binary_data = binary_file.read()\n"
   ]
  },
  {
   "cell_type": "markdown",
   "metadata": {},
   "source": [
    "# Text read and write ('rt', 'wt')  \n",
    "explicitly working with text files, and they operate similarly to 'r' and 'w'. In Python 3, 'r' and 'w' are assumed to be in text mode by default, so these modes are not always necessary.  \n",
    "'wt' truncates it content  "
   ]
  },
  {
   "cell_type": "code",
   "execution_count": 8,
   "metadata": {},
   "outputs": [
    {
     "name": "stdout",
     "output_type": "stream",
     "text": [
      "Hello, world!/nHello, world3!\n"
     ]
    }
   ],
   "source": [
    "with open(f\"{config['fileloc']['dir']}/txt_file2.txt\", 'rt') as f:\n",
    "    content = f.read()\n",
    "    print(content)"
   ]
  },
  {
   "cell_type": "code",
   "execution_count": 9,
   "metadata": {},
   "outputs": [],
   "source": [
    "with open(f\"{config['fileloc']['dir']}/txt_file2.txt\", 'wt') as text_file:\n",
    "    text_file.write('This is a text file.')"
   ]
  },
  {
   "cell_type": "markdown",
   "metadata": {},
   "source": [
    "# Read and write and append and read ('r+', 'a+')  \n",
    "allow both reading and writing.   \n",
    "'r+' opens the file for reading and writing (file must exist), and  \n",
    "'a+' opens the file for reading and appending."
   ]
  },
  {
   "cell_type": "code",
   "execution_count": 10,
   "metadata": {},
   "outputs": [
    {
     "name": "stdout",
     "output_type": "stream",
     "text": [
      "This is a text file.\n",
      "This is a text file.helloword \n"
     ]
    }
   ],
   "source": [
    "with open(f\"{config['fileloc']['dir']}/txt_file2.txt\", 'r+') as f:\n",
    "    content = f.read()\n",
    "    print(content)\n",
    "    f.write(\"helloword \")\n",
    "\n",
    "with open(f\"{config['fileloc']['dir']}/txt_file2.txt\", 'r+') as f:\n",
    "    content = f.read()\n",
    "    print(content)"
   ]
  },
  {
   "cell_type": "code",
   "execution_count": 11,
   "metadata": {},
   "outputs": [
    {
     "name": "stdout",
     "output_type": "stream",
     "text": [
      "This is a text file.helloword hell world a+ \n",
      "\n"
     ]
    }
   ],
   "source": [
    "with open(f\"{config['fileloc']['dir']}/txt_file2.txt\", 'a+') as f:\n",
    "    f.write(\"hell world a+ \\n\")\n",
    "    f.seek(0) # move the file pointer to the beginning    \n",
    "    content = f.read()\n",
    "    print(content)\n",
    "\n"
   ]
  },
  {
   "cell_type": "markdown",
   "metadata": {},
   "source": [
    "# Text I/O  \n",
    "read(): read the entire content of the file and returns it as a single string  \n",
    "readline(): read one line at a time from the file and returns it as a string   "
   ]
  },
  {
   "cell_type": "code",
   "execution_count": 12,
   "metadata": {},
   "outputs": [
    {
     "name": "stdout",
     "output_type": "stream",
     "text": [
      "Line 1: This is the first line.\n",
      "Line 2: This is the second line.\n",
      "Line 3: This is the third line.\n",
      "Line 4: This is the fourth line.\n",
      "Line 5: This is the fifth line.\n"
     ]
    }
   ],
   "source": [
    "with open(file_path1, 'r') as f:\n",
    "    content = f.read()\n",
    "\n",
    "print(content)"
   ]
  },
  {
   "cell_type": "code",
   "execution_count": 13,
   "metadata": {},
   "outputs": [
    {
     "name": "stdout",
     "output_type": "stream",
     "text": [
      "Line 1: This is the first line.\n",
      "\n"
     ]
    }
   ],
   "source": [
    "with open(file_path1, 'r') as f:\n",
    "    content = f.readline()\n",
    "\n",
    "print(content)"
   ]
  },
  {
   "cell_type": "code",
   "execution_count": 14,
   "metadata": {},
   "outputs": [
    {
     "name": "stdout",
     "output_type": "stream",
     "text": [
      "['Line 2: This is the second line.\\n', 'Line 3: This is the third line.\\n', 'Line 4: This is the fourth line.\\n', 'Line 5: This is the fifth line.']\n",
      "\n",
      "\n",
      "\n",
      "Line 2: This is the second line.\n",
      "\n",
      "Line 3: This is the third line.\n",
      "\n",
      "Line 4: This is the fourth line.\n",
      "\n",
      "Line 5: This is the fifth line.\n"
     ]
    }
   ],
   "source": [
    "with open(file_path1, 'r') as f:\n",
    "    for line in f:    \n",
    "        lines = f.readlines()\n",
    "        print(lines)\n",
    "\n",
    "print(\"\\n\\n\")\n",
    "with open(file_path1, 'r') as f:\n",
    "    for line in f:    \n",
    "        for line in f.readlines():\n",
    "            print(line)\n"
   ]
  },
  {
   "cell_type": "markdown",
   "metadata": {},
   "source": [
    "# reference\n",
    "[Python difference between r+, w+ and a+ in open()](https://mkyong.com/python/python-difference-between-r-w-and-a-in-open/)  \n",
    "[Text I/O](https://docs.python.org/3/library/io.html?highlight=readline#id1)"
   ]
  }
 ],
 "metadata": {
  "kernelspec": {
   "display_name": "Python 3 (ipykernel)",
   "language": "python",
   "name": "python3"
  },
  "language_info": {
   "codemirror_mode": {
    "name": "ipython",
    "version": 3
   },
   "file_extension": ".py",
   "mimetype": "text/x-python",
   "name": "python",
   "nbconvert_exporter": "python",
   "pygments_lexer": "ipython3",
   "version": "3.9.12"
  },
  "vscode": {
   "interpreter": {
    "hash": "51480fad90fe9d21f60dbdf1474e71297e9cf7d519346d7c8ab062a40f50e1c0"
   }
  }
 },
 "nbformat": 4,
 "nbformat_minor": 2
}
