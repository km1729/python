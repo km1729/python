{
 "cells": [
  {
   "cell_type": "code",
   "execution_count": 1,
   "metadata": {},
   "outputs": [],
   "source": [
    "import sqlite3\n",
    "from p_sqlite3_employee import Employee"
   ]
  },
  {
   "cell_type": "markdown",
   "metadata": {},
   "source": [
    "DB 연결, 커서 획득"
   ]
  },
  {
   "cell_type": "code",
   "execution_count": 2,
   "metadata": {},
   "outputs": [],
   "source": [
    "# DB creation, isolation_level=None 쿼리문 실행하여 db에 즉시 반영, 자동커밋\n",
    "# 있으면 연결, 없으면 만듬\n",
    "conn = sqlite3.connect(\"test.db\", isolation_level=None)\n",
    "\n",
    "# coursor acquire\n",
    "c = conn.cursor()"
   ]
  },
  {
   "cell_type": "code",
   "execution_count": null,
   "metadata": {},
   "outputs": [],
   "source": [
    "# Creating a table 1\n",
    "c.execute(\"\"\"CREATE TABLE employees (\n",
    "            firstname text,\n",
    "            lastname text,\n",
    "            pay integer\n",
    "            )\"\"\")\n",
    "\n",
    "conn.commit() \n",
    "conn.close()"
   ]
  },
  {
   "cell_type": "code",
   "execution_count": 5,
   "metadata": {},
   "outputs": [
    {
     "data": {
      "text/plain": [
       "<sqlite3.Cursor at 0x1c2dc321c70>"
      ]
     },
     "execution_count": 5,
     "metadata": {},
     "output_type": "execute_result"
    }
   ],
   "source": [
    "# Creating a table 2\n",
    "c.execute(\"CREATE TABLE IF NOT EXISTS userusage \\\n",
    "    (id integer PRIMARY KEY, \\\n",
    "        name text, \\\n",
    "        birthday text)\")"
   ]
  },
  {
   "cell_type": "markdown",
   "metadata": {},
   "source": [
    "Insert values"
   ]
  },
  {
   "cell_type": "code",
   "execution_count": 9,
   "metadata": {},
   "outputs": [
    {
     "data": {
      "text/plain": [
       "<sqlite3.Cursor at 0x2000ef217a0>"
      ]
     },
     "execution_count": 9,
     "metadata": {},
     "output_type": "execute_result"
    }
   ],
   "source": [
    "# insert single value\n",
    "c.execute(\"INSERT INTO employees VALUES('Corey','Schafer',50000)\")\n",
    "c.execute(\"INSERT INTO employees VALUES('Corey','Schafer',70000)\")"
   ]
  },
  {
   "cell_type": "code",
   "execution_count": 25,
   "metadata": {},
   "outputs": [],
   "source": [
    "emp1 = Employee('kelly', 'H', 55000)\n",
    "emp2 = Employee('Age', 'H', 55000)\n",
    "emp3 = Employee('Charlie', 'H', 65000)\n",
    "emp4 = Employee('young', 'Kim', 65000)"
   ]
  },
  {
   "cell_type": "code",
   "execution_count": 9,
   "metadata": {},
   "outputs": [
    {
     "data": {
      "text/plain": [
       "<sqlite3.Cursor at 0x1fa66971730>"
      ]
     },
     "execution_count": 9,
     "metadata": {},
     "output_type": "execute_result"
    }
   ],
   "source": [
    "c.execute(\"INSERT INTO employees VALUES('{}','{}',{})\".format(emp1.first, emp1.last, emp1.pay))"
   ]
  },
  {
   "cell_type": "code",
   "execution_count": 11,
   "metadata": {},
   "outputs": [
    {
     "data": {
      "text/plain": [
       "<sqlite3.Cursor at 0x1fa66971730>"
      ]
     },
     "execution_count": 11,
     "metadata": {},
     "output_type": "execute_result"
    }
   ],
   "source": [
    "c.execute(\"INSERT INTO employees VALUES(?,?,?)\", (emp2.first, emp2.last, emp2.pay))"
   ]
  },
  {
   "cell_type": "code",
   "execution_count": 15,
   "metadata": {},
   "outputs": [
    {
     "data": {
      "text/plain": [
       "<sqlite3.Cursor at 0x1fa66971730>"
      ]
     },
     "execution_count": 15,
     "metadata": {},
     "output_type": "execute_result"
    }
   ],
   "source": [
    "c.execute(\"INSERT INTO employees VALUES(:first,:last,:pay)\", {'first':emp3.first, 'last':emp3.last, 'pay':emp3.pay})"
   ]
  },
  {
   "cell_type": "markdown",
   "metadata": {},
   "source": []
  },
  {
   "cell_type": "code",
   "execution_count": 16,
   "metadata": {},
   "outputs": [
    {
     "data": {
      "text/plain": [
       "[('Corey', 'Schafer', 50000),\n",
       " ('Corey', 'Schafer', 50000),\n",
       " ('Corey', 'Schafer', 70000),\n",
       " ('kelly', 'H', 55000),\n",
       " ('Age', 'H', 55000),\n",
       " ('Age', 'H', 55000),\n",
       " ('Charlie', 'H', 65000)]"
      ]
     },
     "execution_count": 16,
     "metadata": {},
     "output_type": "execute_result"
    }
   ],
   "source": [
    "c.execute(\"SELECT * FROM employees\")\n",
    "# c.fetchmany(5) #select number of query\n",
    "# c.fetchone() # select on query\n",
    "c.fetchall()"
   ]
  },
  {
   "cell_type": "code",
   "execution_count": 20,
   "metadata": {},
   "outputs": [
    {
     "data": {
      "text/plain": [
       "[('kelly', 'H', 55000),\n",
       " ('Age', 'H', 55000),\n",
       " ('Age', 'H', 55000),\n",
       " ('Charlie', 'H', 65000)]"
      ]
     },
     "execution_count": 20,
     "metadata": {},
     "output_type": "execute_result"
    }
   ],
   "source": [
    "# 딕셔너리형태로 찾기\n",
    "c.execute(\"SELECT * FROM employees WHERE lastname=:last\",{'last':'H'})\n",
    "c.fetchall()"
   ]
  },
  {
   "cell_type": "code",
   "execution_count": 22,
   "metadata": {},
   "outputs": [
    {
     "data": {
      "text/plain": [
       "[('Corey', 'Schafer', 50000),\n",
       " ('Corey', 'Schafer', 50000),\n",
       " ('Corey', 'Schafer', 70000)]"
      ]
     },
     "execution_count": 22,
     "metadata": {},
     "output_type": "execute_result"
    }
   ],
   "source": [
    "c.execute(\"SELECT * FROM employees WHERE lastname=?\",('Schafer',))\n",
    "c.fetchall()"
   ]
  },
  {
   "cell_type": "code",
   "execution_count": 43,
   "metadata": {},
   "outputs": [],
   "source": [
    "def insert_emp(emp):\n",
    "    with conn:\n",
    "        c.execute(\"INSERT INTO employees VALUES(:first,:last,:pay)\", \\\n",
    "            {'first':emp.first, 'last':emp.last, 'pay':emp.pay})\n",
    "\n",
    "def get_emp_all():\n",
    "    c.execute(\"SELECT * FROM employees\")\n",
    "    print(f'\\n print all')\n",
    "    return c.fetchall()\n",
    "\n",
    "def get_emps_by_name(lastname):\n",
    "    c.execute(\"SELECT * FROM employees WHERE lastname=:last\",{'last':lastname})\n",
    "    return c.fetchall()\n",
    "\n",
    "def update_pay(emp, pay):\n",
    "    with conn:\n",
    "        c.execute(\"UPDATE employees SET pay =:pay WHERE firstname=:first AND lastname=:last\",\\\n",
    "            {'first': emp.first, 'last': emp.last, 'pay': pay})\n",
    "\n",
    "def remove_emp(emp):\n",
    "    with conn:\n",
    "        c.execute(\"DELETE from employees WHERE firstname=:first AND lastname=:last\",{'first':emp.first, 'last':emp.last})"
   ]
  },
  {
   "cell_type": "code",
   "execution_count": 44,
   "metadata": {},
   "outputs": [
    {
     "name": "stdout",
     "output_type": "stream",
     "text": [
      "[('kelly', 'H', 55000), ('Charlie', 'H', 65000)]\n",
      "\n",
      " print all\n",
      "[('Corey', 'Schafer', 50000), ('Corey', 'Schafer', 50000), ('Corey', 'Schafer', 70000), ('kelly', 'H', 55000), ('Charlie', 'H', 65000), ('young', 'Kim', 100000), ('young', 'Kim', 100000), ('young', 'Kim', 100000), ('young', 'Kim', 100000), ('young', 'Kim', 100000), ('young', 'Kim', 100000), ('young', 'Kim', 100000), ('young', 'Kim', 100000), ('young', 'Kim', 100000), ('young', 'Kim', 65000)]\n",
      "\n",
      " print all\n",
      "[('Corey', 'Schafer', 50000), ('Corey', 'Schafer', 50000), ('Corey', 'Schafer', 70000), ('kelly', 'H', 55000), ('Charlie', 'H', 65000), ('young', 'Kim', 100000), ('young', 'Kim', 100000), ('young', 'Kim', 100000), ('young', 'Kim', 100000), ('young', 'Kim', 100000), ('young', 'Kim', 100000), ('young', 'Kim', 100000), ('young', 'Kim', 100000), ('young', 'Kim', 100000), ('young', 'Kim', 100000)]\n",
      "\n",
      " print all\n",
      "[('Corey', 'Schafer', 50000), ('Corey', 'Schafer', 50000), ('Corey', 'Schafer', 70000), ('kelly', 'H', 55000), ('Charlie', 'H', 65000), ('young', 'Kim', 100000), ('young', 'Kim', 100000), ('young', 'Kim', 100000), ('young', 'Kim', 100000), ('young', 'Kim', 100000), ('young', 'Kim', 100000), ('young', 'Kim', 100000), ('young', 'Kim', 100000), ('young', 'Kim', 100000), ('young', 'Kim', 100000)]\n"
     ]
    }
   ],
   "source": [
    "insert_emp(emp4)\n",
    "print(get_emps_by_name('H'))\n",
    "print(get_emp_all())\n",
    "update_pay(emp4, 100000)\n",
    "print(get_emp_all())\n",
    "remove_emp(emp2)\n",
    "print(get_emp_all())"
   ]
  },
  {
   "cell_type": "code",
   "execution_count": 4,
   "metadata": {},
   "outputs": [],
   "source": [
    "conn.commit()\n",
    "conn.close()"
   ]
  },
  {
   "cell_type": "markdown",
   "metadata": {},
   "source": [
    "reference  \n",
    "Youtube python SQLite... [https://youtu.be/pd-0G0MigUA]"
   ]
  },
  {
   "cell_type": "markdown",
   "metadata": {},
   "source": []
  }
 ],
 "metadata": {
  "kernelspec": {
   "display_name": "Python 3.9.12 ('base')",
   "language": "python",
   "name": "python3"
  },
  "language_info": {
   "codemirror_mode": {
    "name": "ipython",
    "version": 3
   },
   "file_extension": ".py",
   "mimetype": "text/x-python",
   "name": "python",
   "nbconvert_exporter": "python",
   "pygments_lexer": "ipython3",
   "version": "3.9.12"
  },
  "orig_nbformat": 4,
  "vscode": {
   "interpreter": {
    "hash": "51480fad90fe9d21f60dbdf1474e71297e9cf7d519346d7c8ab062a40f50e1c0"
   }
  }
 },
 "nbformat": 4,
 "nbformat_minor": 2
}
