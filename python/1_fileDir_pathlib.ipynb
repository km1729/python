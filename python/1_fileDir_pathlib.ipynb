{
 "cells": [
  {
   "cell_type": "code",
   "execution_count": 1,
   "metadata": {},
   "outputs": [],
   "source": [
    "import pathlib\n",
    "\n",
    "# 파이썬 3.4부터 내장함수로 pathlib가 추가됨. 그전에는 os 모듈 사용\n",
    "# pathlib: 객체, 파일위치 찾기, 파일 입출력\n",
    "# pathlib 에서 제일 많이 쓰는것은 Path 클래스"
   ]
  },
  {
   "cell_type": "code",
   "execution_count": 2,
   "metadata": {},
   "outputs": [],
   "source": [
    "# 폴더/ 파일의 존재 여부 확인\n",
    "file_path = '../plotly'\n",
    "p = pathlib.Path(file_path)\n",
    "if p.exists():\n",
    "    pass"
   ]
  },
  {
   "cell_type": "code",
   "execution_count": 3,
   "metadata": {},
   "outputs": [
    {
     "name": "stdout",
     "output_type": "stream",
     "text": [
      "dir\n",
      "dir\\sub_dir\\file\n"
     ]
    }
   ],
   "source": [
    "# 파일 시스템을 문자열이 아닌 객체로 다루게 되면서 얻는 이익\n",
    "dir_name = 'dir'\n",
    "sub_dir_name='sub_dir'\n",
    "file_name = 'file'\n",
    "\n",
    "dir = pathlib.Path(dir_name)\n",
    "file = dir/sub_dir_name/file_name\n",
    "\n",
    "print(dir)\n",
    "print(file)"
   ]
  },
  {
   "cell_type": "code",
   "execution_count": 4,
   "metadata": {},
   "outputs": [
    {
     "name": "stdout",
     "output_type": "stream",
     "text": [
      "Line 1: This is the first line.\n",
      "Line 2: This is the second line.\n",
      "Line 3: This is the third line.\n",
      "Line 4: This is the fourth line.\n",
      "Line 5: This is the fifth line.\n"
     ]
    }
   ],
   "source": [
    "# 파일 읽기\n",
    "file_path = pathlib.Path('../data/txt_file.txt')\n",
    "with file_path.open(mode='r') as f:\n",
    "    content = f.read()\n",
    "    print(content)"
   ]
  },
  {
   "cell_type": "code",
   "execution_count": null,
   "metadata": {},
   "outputs": [],
   "source": [
    "# script 현재 경로\n",
    "from pathlib import Path\n",
    "import os\n",
    "\n",
    "print(Path.home())\n",
    "print(Path.cwd())\n",
    "os.chdir('../ML') # ML로 경로변경\n",
    "print(Path.cwd())\n",
    "print(os.getcwd())\n"
   ]
  },
  {
   "cell_type": "code",
   "execution_count": 6,
   "metadata": {},
   "outputs": [
    {
     "name": "stdout",
     "output_type": "stream",
     "text": [
      "..\\ML\n",
      "..\\ML\\book_auto-mpg_1.ipynb\n",
      "..\\ML\\book_auto-mpg_2.ipynb\n",
      "..\\ML\\boston.csv\n",
      "..\\ML\\Boston.ipynb\n",
      "..\\ML\\iris.ipynb\n",
      "..\\ML\\lemonade.ipynb\n",
      "..\\ML\\lossfunction.ipynb\n"
     ]
    }
   ],
   "source": [
    "# 디렉토리/폴더의 폴더와 파일 목록 가져오기\n",
    "from pathlib import Path\n",
    "\n",
    "dpath= '../ML'\n",
    "p = Path(dpath)\n",
    "print(p)\n",
    "\n",
    "\n",
    "f_list = list(p.glob('**/*'))\n",
    "for f in f_list:\n",
    "    print(f)"
   ]
  },
  {
   "cell_type": "code",
   "execution_count": 7,
   "metadata": {},
   "outputs": [
    {
     "name": "stdout",
     "output_type": "stream",
     "text": [
      "..\\..\\automation\\DOCUMENTS\\FailFile.txt\n",
      "FailFile.txt\n",
      "..\\..\\automation\\DOCUMENTS\n",
      "FailFile\n",
      ".txt\n",
      "['.txt']\n",
      "('..', '..', 'automation', 'DOCUMENTS', 'FailFile.txt')\n"
     ]
    }
   ],
   "source": [
    "# Path를 나눠서 잘라볼 수 있다\n",
    "p_obj = Path(\"../../automation/DOCUMENTS/FailFile.txt\")\n",
    "\n",
    "print(p_obj) # 파일 경로전체\n",
    "print(p_obj.name) # 파일 이름\n",
    "print(p_obj.parent) # 파일이름을 제외한 경로\n",
    "print(p_obj.stem) # 접미사가, 확장자가 없는 파일 이름\n",
    "\n",
    "print(p_obj.suffix) # 파일 확장자\n",
    "print(p_obj.suffixes) # 파일 확장자, 리스트로 리턴\n",
    "\n",
    "\n",
    "print(p_obj.parts) # path를 나눠서 리스트로 반환"
   ]
  },
  {
   "cell_type": "code",
   "execution_count": 8,
   "metadata": {},
   "outputs": [],
   "source": [
    "# Path touch\n",
    "import datetime\n",
    "today = datetime.date.today()\n",
    "path = Path(f'../python/{today}.txt').touch()\n",
    "\n"
   ]
  },
  {
   "cell_type": "markdown",
   "metadata": {},
   "source": [
    "## Reference  \n",
    "[나선생 코딩랩](https://blog.naver.com/PostView.nhn?blogId=hankrah&logNo=221838907175&categoryNo=0&parentCategoryNo=0&viewDate=&currentPage=1&postListTopCurrentPage=1&from=postView)  \n",
    "[Python doc - pathlib](https://docs.python.org/3/library/pathlib.html)  "
   ]
  },
  {
   "cell_type": "markdown",
   "metadata": {},
   "source": []
  }
 ],
 "metadata": {
  "kernelspec": {
   "display_name": "Python 3 (ipykernel)",
   "language": "python",
   "name": "python3"
  },
  "language_info": {
   "codemirror_mode": {
    "name": "ipython",
    "version": 3
   },
   "file_extension": ".py",
   "mimetype": "text/x-python",
   "name": "python",
   "nbconvert_exporter": "python",
   "pygments_lexer": "ipython3",
   "version": "3.9.12"
  },
  "vscode": {
   "interpreter": {
    "hash": "51480fad90fe9d21f60dbdf1474e71297e9cf7d519346d7c8ab062a40f50e1c0"
   }
  }
 },
 "nbformat": 4,
 "nbformat_minor": 2
}
