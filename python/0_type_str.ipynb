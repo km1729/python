{
 "cells": [
  {
   "cell_type": "code",
   "execution_count": 21,
   "metadata": {},
   "outputs": [
    {
     "name": "stdout",
     "output_type": "stream",
     "text": [
      "True\n"
     ]
    }
   ],
   "source": [
    "text = \"Python is a powerful and versatile programming language. Python is also easy to learn.\"\n",
    "text2 = '''\n",
    "    Line 1: This is the first line.\n",
    "    Line 2: This is the second line.\n",
    "    Line 3: This is the third line.\n",
    "    Line 4: This is the fourth line.\n",
    "    Line 5: This is the fifth line.\n",
    "'''\n",
    "print((\"spam \" \"eggs\") == \"spam eggs\")"
   ]
  },
  {
   "cell_type": "code",
   "execution_count": 11,
   "metadata": {},
   "outputs": [
    {
     "name": "stdout",
     "output_type": "stream",
     "text": [
      "capitalize: Spam eggs\n",
      "casefold: spam eggs\n",
      "center:                                              spam eggs                                              \n"
     ]
    }
   ],
   "source": [
    "print(f'capitalize: {\"spam eggs\".capitalize()}')\n",
    "print(f'casefold: {\"spam eggs\".casefold()}')\n",
    "print(f'center: {\"spam eggs\".center(100)}')"
   ]
  },
  {
   "cell_type": "code",
   "execution_count": 13,
   "metadata": {},
   "outputs": [
    {
     "name": "stdout",
     "output_type": "stream",
     "text": [
      "count: 2\n"
     ]
    }
   ],
   "source": [
    "print(f'count: {text.count(\"Python\")}')"
   ]
  },
  {
   "cell_type": "code",
   "execution_count": 14,
   "metadata": {},
   "outputs": [
    {
     "data": {
      "text/plain": [
       "False"
      ]
     },
     "execution_count": 14,
     "metadata": {},
     "output_type": "execute_result"
    }
   ],
   "source": [
    "text.isdigit()"
   ]
  },
  {
   "cell_type": "code",
   "execution_count": 18,
   "metadata": {},
   "outputs": [
    {
     "name": "stdout",
     "output_type": "stream",
     "text": [
      "lstrip: spacious   \n",
      "rstrip:    spacious\n",
      "strip: spacious\n"
     ]
    }
   ],
   "source": [
    "print(f\"lstrip: {'   spacious   '.lstrip()}\")\n",
    "print(f\"rstrip: {'   spacious   '.rstrip()}\")\n",
    "print(f\"strip: {'   spacious   '.strip()}\")"
   ]
  },
  {
   "cell_type": "markdown",
   "metadata": {},
   "source": [
    "### Split()  \n",
    "Return a list of the words in the string, using sep as the delimiter string."
   ]
  },
  {
   "cell_type": "code",
   "execution_count": 20,
   "metadata": {},
   "outputs": [
    {
     "name": "stdout",
     "output_type": "stream",
     "text": [
      "split: ['1', '2', '3']\n",
      "split: ['1', '2,3']\n"
     ]
    }
   ],
   "source": [
    "print(f\"split: {'1,2,3'.split(',')}\")\n",
    "print(f\"split: {'1,2,3'.split(',', maxsplit=1)}\")"
   ]
  },
  {
   "cell_type": "code",
   "execution_count": 24,
   "metadata": {},
   "outputs": [
    {
     "data": {
      "text/plain": [
       "['Python',\n",
       " 'is',\n",
       " 'a',\n",
       " 'powerful',\n",
       " 'and',\n",
       " 'versatile',\n",
       " 'programming',\n",
       " 'language.',\n",
       " 'Python',\n",
       " 'is',\n",
       " 'also',\n",
       " 'easy',\n",
       " 'to',\n",
       " 'learn.']"
      ]
     },
     "execution_count": 24,
     "metadata": {},
     "output_type": "execute_result"
    }
   ],
   "source": [
    "text.split()"
   ]
  },
  {
   "cell_type": "code",
   "execution_count": 27,
   "metadata": {},
   "outputs": [
    {
     "name": "stdout",
     "output_type": "stream",
     "text": [
      "--------------------------------------------------------------------------\n",
      "\n",
      "           fs       Usage      Quota      Limit   iUsage   iQuota   iLimit\n",
      "\n",
      "--------------------------------------------------------------------------\n",
      "\n",
      "   hh5 scratch   3.22 GiB  72.00 GiB  75.60 GiB     1646   164000   172200\n",
      "\n",
      "   ig2 scratch   4.00 KiB   1.00 MiB   1.05 MiB        1     1025     1076\n",
      "\n",
      "   dp9 scratch   1.12 PiB   1.17 PiB   1.17 PiB 31259961 60095000 63099750\n",
      "\n",
      "  qa11 scratch  56.00 KiB   1.00 GiB   1.05 GiB       14     1025     1076\n",
      "\n",
      "   dx2 scratch 216.55 TiB 270.00 TiB 271.00 TiB  4625338 16066000 16869300\n",
      "\n",
      "   er4 scratch  23.71 TiB 120.00 TiB 126.00 TiB  2515692  7954000  8351700\n",
      "\n",
      "  tp28 scratch 166.47 TiB 200.00 TiB 201.00 TiB  3675443 12369000 12987450\n",
      "\n",
      "  dk92 scratch 424.00 KiB  72.00 GiB  75.60 GiB      106   164000   172200\n",
      "\n",
      "  hr22 scratch   1.86 MiB     0.00 B     0.00 B     1188        0        0\n",
      "\n",
      "  vp91 scratch   2.16 TiB   5.00 TiB   5.25 TiB   862363 10485760 11010048\n",
      "\n",
      "  hd50 scratch 128.31 TiB 200.00 TiB 201.00 TiB  8377677 12369000 12987450\n",
      "\n",
      "  hc46 scratch 649.44 GiB   1.00 TiB   1.05 TiB   460562   600000   630000\n",
      "\n",
      "access   gdata  26.81 TiB  35.00 TiB  36.75 TiB  1666877  2806000  2946300\n",
      "\n",
      "   hh5   gdata 641.91 TiB 685.00 TiB 719.25 TiB 11069897 36476000 38299800\n",
      "\n",
      "   ig2   gdata 144.59 TiB 210.00 TiB 220.50 TiB  2241629 12905000 13550250\n",
      "\n",
      "   dp9   gdata 306.24 TiB 427.00 TiB 448.35 TiB 32841404 40000000 42000000\n",
      "\n",
      "  qa11   gdata   3.07 TiB   5.00 TiB   5.25 TiB  1071245  1500000  1575000\n",
      "\n",
      "   dx2   gdata 263.46 TiB 315.00 TiB 330.75 TiB  9722597 15022000 15773100\n",
      "\n",
      "   er4   gdata 110.99 TiB 220.00 TiB 231.00 TiB  7783812 15886000 16680300\n",
      "\n",
      "  tp28   gdata 996.89 TiB   1.04 PiB   1.10 PiB 24513746 58611000 61541550\n",
      "\n",
      "  dk92   gdata 839.34 GiB   2.00 TiB   2.10 TiB  3366553  3500000  3675000\n",
      "\n",
      "  hr22   gdata   5.14 GiB 128.00 GiB 134.40 GiB   234500   500000   525000\n",
      "\n",
      "  hd50   gdata 271.86 TiB 291.00 TiB 305.55 TiB 11100284 21614000 22694700\n",
      "\n",
      "--------------------------------------------------------------------------\n"
     ]
    }
   ],
   "source": [
    "with open('../data/lquota.txt', 'r') as f:\n",
    "    for line in f:\n",
    "        print(line)"
   ]
  },
  {
   "cell_type": "markdown",
   "metadata": {},
   "source": [
    "# reference\n",
    "[python doc - Text Sequence Type - str](https://docs.python.org/3/library/stdtypes.html#text-sequence-type-str)  "
   ]
  },
  {
   "cell_type": "markdown",
   "metadata": {},
   "source": []
  }
 ],
 "metadata": {
  "kernelspec": {
   "display_name": "Python 3 (ipykernel)",
   "language": "python",
   "name": "python3"
  },
  "language_info": {
   "codemirror_mode": {
    "name": "ipython",
    "version": 3
   },
   "file_extension": ".py",
   "mimetype": "text/x-python",
   "name": "python",
   "nbconvert_exporter": "python",
   "pygments_lexer": "ipython3",
   "version": "3.9.18"
  },
  "vscode": {
   "interpreter": {
    "hash": "51480fad90fe9d21f60dbdf1474e71297e9cf7d519346d7c8ab062a40f50e1c0"
   }
  }
 },
 "nbformat": 4,
 "nbformat_minor": 2
}
