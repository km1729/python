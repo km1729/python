{
 "cells": [
  {
   "cell_type": "code",
   "execution_count": 22,
   "metadata": {},
   "outputs": [],
   "source": [
    "import netCDF4\n",
    "import os\n",
    "import datetime as dt\n",
    "import numpy as np\n",
    "import csv\n",
    "\n",
    "# CReating netCDF files\n",
    "# https://towardsdatascience.com/create-netcdf-files-with-python-1d86829127"
   ]
  },
  {
   "cell_type": "code",
   "execution_count": 24,
   "metadata": {},
   "outputs": [],
   "source": [
    "# Data path\n",
    "data_path = r'./files'\n",
    "\n",
    "# Create NetCDF File\n",
    "output_nc = os.path.join(data_path, '123test.nc')\n",
    "ds = netCDF4.Dataset(output_nc, 'w', format='NETCDF4')"
   ]
  },
  {
   "cell_type": "code",
   "execution_count": 12,
   "metadata": {},
   "outputs": [],
   "source": [
    "# Create dimensions \n",
    "# three dimensions: logitude(x 10), latitude(y 10) and time (t)\n",
    "\n",
    "time = ds.createDimension('time', None)\n",
    "lat = ds.createDimension('lat', 10)\n",
    "lon = ds.createDimension('lon', 10)"
   ]
  },
  {
   "cell_type": "code",
   "execution_count": null,
   "metadata": {},
   "outputs": [],
   "source": [
    "# Global attributes( describe the netCDF ) \n",
    "# Global attributes\n",
    "nc.title = 'ET-Amazon'\n",
    "nc.summary = ('Actual monthly evapotranspiration in Rondonia, Brazil '\n",
    "              'for June 2005, 2009, and 2013')\n",
    "nc.keywords = 'Evapotranspiration, Amazon, Water cycle'\n",
    "nc.license = ('This work is licensed under a Creative Commons '\n",
    "              'Attribution 4.0 International License.')\n",
    "nc.references = ('Paca, V.H., Espinoza-Davalos, G.E., Hessels, T.M., '\n",
    "                 'Moreira, D., Comair, G.F., Bastiaanssen, W. (2019). '\n",
    "                 'The Spatial Variability of Actual Evapotranspiration '\n",
    "                 'Across the Amazon River Basin Based on Remote Sensing '\n",
    "                 'Models Validated with Flux-Towers. Ecological Processes. '\n",
    "                 '8(1), 6. https://doi.org/10.1186/s13717-019-0158-8')\n",
    "nc.source = 'https://www.hydroshare.org/resource/24792a48a6394dcba52da62fa324ae40/'\n",
    "nc.Conventions = 'CF-1.6'\n",
    "nc.institution = 'Esri'\n",
    "nc.history = '{0} creation of ET-Amazon netcdf file.'.format(\n",
    "              dt.datetime.now().strftime(\"%Y-%m-%d\")\n",
    "             )"
   ]
  },
  {
   "cell_type": "code",
   "execution_count": null,
   "metadata": {},
   "outputs": [],
   "source": [
    "# Create variables\n",
    "\"\"\" \n",
    "    latitude\n",
    "    logitude\n",
    "    time\n",
    "    one variable per deminsion\n",
    "    one variable for the mapping grid (crs)\n",
    "    one variable for the evapotraspiration values (ET)\n",
    "    each variable have associated dimensions to them.\n",
    "\"\"\"\n",
    "\n",
    "lat_var = nc.createVariable('latitude', np.float64, ('latitude'))\n",
    "lat_var.units = 'degree_north'\n",
    "lat_var.standard_name = 'latitude'\n",
    "lat_var.axis = 'Y'\n",
    "\n",
    "lon_var = nc.createVariable('longitude', np.float64, ('longitude'))\n",
    "lon_var.units = 'degrees_east'\n",
    "lon_var.standard_name = 'longitude'\n",
    "lon_var.axis = 'X'\n",
    "\n",
    "time_var = nc.createVariable('time', np.int32, ('time'))\n",
    "time_var.standard_name = 'time'\n",
    "time_var.calendar = 'gregorian'\n",
    "time_var.time_step = 'Monthly'\n",
    "time_var.units = 'Seconds since 1970-01-01 00:00:00'\n",
    "time_var.axis = 'T'\n",
    "\n",
    "crs_var = nc.createVariable('crs', np.int8, ())\n",
    "crs_var.standard_name = 'crs'\n",
    "crs_var.grid_mapping_name = 'latitude_longitude'\n",
    "crs_var.crs_wkt = (\"GEOGCS['GCS_WGS_1984',DATUM['D_WGS_1984',\"\n",
    "                   \"SPHEROID['WGS_1984',6378137.0,298.257223563]],\"\n",
    "                   \"PRIMEM['Greenwich',0.0],\"\n",
    "                   \"UNIT['Degree',0.0174532925199433]]\")\n",
    "\n",
    "\n",
    "et_var = nc.createVariable('ET', np.int16, ('time', 'latitude', 'longitude'),\n",
    "                           fill_value=9999)\n",
    "et_var.units = 'mm/month'\n",
    "et_var.long_name = 'Actual Evapotranspiration'\n",
    "et_var.short_name = 'ET'\n",
    "et_var.grid_mapping = 'crs'\n"
   ]
  },
  {
   "cell_type": "code",
   "execution_count": null,
   "metadata": {},
   "outputs": [],
   "source": [
    "# Load values\n",
    "# Time\n",
    "date_200506 = int((dt.datetime(2005,6,1) - dt.datetime(1970,1,1)).total_seconds())\n",
    "date_200906 = int((dt.datetime(2009,6,1) - dt.datetime(1970,1,1)).total_seconds())\n",
    "date_201306 = int((dt.datetime(2013,6,1) - dt.datetime(1970,1,1)).total_seconds())\n",
    "time_values = [date_200506, date_200906, date_201306]\n",
    "time_var[:] = time_values\n",
    "\n",
    "# Latitude and Longitude\n",
    "lat_values = np.arange(-9.6491667 - 0.0025/2, -10.0891667, -0.0025)\n",
    "lon_values = np.arange(-64.735 + 0.0025/2, -64.125, 0.0025)\n",
    "lat_var[:] = lat_values\n",
    "lon_var[:] = lon_values"
   ]
  }
 ],
 "metadata": {
  "kernelspec": {
   "display_name": "base",
   "language": "python",
   "name": "python3"
  },
  "language_info": {
   "codemirror_mode": {
    "name": "ipython",
    "version": 3
   },
   "file_extension": ".py",
   "mimetype": "text/x-python",
   "name": "python",
   "nbconvert_exporter": "python",
   "pygments_lexer": "ipython3",
   "version": "3.10.6"
  },
  "orig_nbformat": 4
 },
 "nbformat": 4,
 "nbformat_minor": 2
}
