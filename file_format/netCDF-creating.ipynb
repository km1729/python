{
 "cells": [
  {
   "cell_type": "code",
   "execution_count": 32,
   "metadata": {},
   "outputs": [],
   "source": [
    "import netCDF4\n",
    "import os\n",
    "import datetime as dt\n",
    "import numpy as np\n",
    "import csv\n",
    "\n",
    "# CReating netCDF files\n",
    "# https://towardsdatascience.com/create-netcdf-files-with-python-1d86829127"
   ]
  },
  {
   "cell_type": "code",
   "execution_count": 34,
   "metadata": {},
   "outputs": [],
   "source": [
    "# Data path\n",
    "data_path = r'./files'\n",
    "\n",
    "# Create NetCDF File\n",
    "output_nc = os.path.join(data_path, '1234.nc')\n",
    "ds = netCDF4.Dataset(output_nc, 'w', format='NETCDF4')"
   ]
  },
  {
   "cell_type": "code",
   "execution_count": 35,
   "metadata": {},
   "outputs": [],
   "source": [
    "# Create dimensions \n",
    "# three dimensions: logitude(x 10), latitude(y 10) and time (t)\n",
    "\n",
    "time = ds.createDimension('time', None)\n",
    "lat = ds.createDimension('lat', 10)\n",
    "lon = ds.createDimension('lon', 10)"
   ]
  },
  {
   "cell_type": "code",
   "execution_count": 36,
   "metadata": {},
   "outputs": [],
   "source": [
    "# Create variables\n",
    "# variables contain the actual data of the file\n",
    "\"\"\" \n",
    "    latitude\n",
    "    logitude\n",
    "    time\n",
    "    value that associated to dimentions\n",
    "    each variable have associated dimensions to them.\n",
    "\"\"\"\n",
    "\n",
    "times = ds.createVariable('time', 'f4', ('time',))\n",
    "lats = ds.createVariable('lat', 'f4', ('lat',))\n",
    "lons = ds.createVariable('lon', 'f4', ('lon',))\n",
    "value = ds.createVariable('value', 'f4', ('time', 'lat', 'lon',))\n",
    "value.units = 'Unknown'"
   ]
  },
  {
   "cell_type": "code",
   "execution_count": 37,
   "metadata": {},
   "outputs": [
    {
     "name": "stdout",
     "output_type": "stream",
     "text": [
      "var size before adding data (0, 10, 10)\n"
     ]
    }
   ],
   "source": [
    "# Load values\n",
    "# Latitude and Longitude\n",
    "lats[:] = np.arange(40.0, 50.0, 1.0)\n",
    "lons[:] = np.arange(-110.0, -100.0, 1.0)\n",
    "\n",
    "print('var size before adding data', value.shape)"
   ]
  },
  {
   "cell_type": "code",
   "execution_count": 38,
   "metadata": {},
   "outputs": [
    {
     "name": "stdout",
     "output_type": "stream",
     "text": [
      "var size after adding first data (1, 10, 10)\n"
     ]
    }
   ],
   "source": [
    "value[0, :, :] = np.random.uniform(0, 100, size=(10, 10))\n",
    "\n",
    "print('var size after adding first data', value.shape)"
   ]
  },
  {
   "cell_type": "code",
   "execution_count": 39,
   "metadata": {},
   "outputs": [
    {
     "name": "stdout",
     "output_type": "stream",
     "text": [
      "var size after adding second data (2, 10, 10)\n"
     ]
    }
   ],
   "source": [
    "xval = np.linspace(0.5, 5.0, 10)\n",
    "yval = np.linspace(0.5, 5.0, 10)\n",
    "value[1, :, :] = np.array(xval.reshape(-1, 1) + yval)\n",
    "print('var size after adding second data', value.shape)"
   ]
  },
  {
   "cell_type": "code",
   "execution_count": 40,
   "metadata": {},
   "outputs": [],
   "source": [
    "ds.close()"
   ]
  },
  {
   "cell_type": "code",
   "execution_count": null,
   "metadata": {},
   "outputs": [],
   "source": [
    "# Global attributes( describe the netCDF ) \n",
    "# Global attributes\n",
    "nc.title = 'ET-Amazon'\n",
    "nc.summary = ('Actual monthly evapotranspiration in Rondonia, Brazil '\n",
    "              'for June 2005, 2009, and 2013')\n",
    "nc.keywords = 'Evapotranspiration, Amazon, Water cycle'\n",
    "nc.license = ('This work is licensed under a Creative Commons '\n",
    "              'Attribution 4.0 International License.')\n",
    "nc.references = ('Paca, V.H., Espinoza-Davalos, G.E., Hessels, T.M., '\n",
    "                 'Moreira, D., Comair, G.F., Bastiaanssen, W. (2019). '\n",
    "                 'The Spatial Variability of Actual Evapotranspiration '\n",
    "                 'Across the Amazon River Basin Based on Remote Sensing '\n",
    "                 'Models Validated with Flux-Towers. Ecological Processes. '\n",
    "                 '8(1), 6. https://doi.org/10.1186/s13717-019-0158-8')\n",
    "nc.source = 'https://www.hydroshare.org/resource/24792a48a6394dcba52da62fa324ae40/'\n",
    "nc.Conventions = 'CF-1.6'\n",
    "nc.institution = 'Esri'\n",
    "nc.history = '{0} creation of ET-Amazon netcdf file.'.format(\n",
    "              dt.datetime.now().strftime(\"%Y-%m-%d\")\n",
    "             )"
   ]
  }
 ],
 "metadata": {
  "kernelspec": {
   "display_name": "base",
   "language": "python",
   "name": "python3"
  },
  "language_info": {
   "codemirror_mode": {
    "name": "ipython",
    "version": 3
   },
   "file_extension": ".py",
   "mimetype": "text/x-python",
   "name": "python",
   "nbconvert_exporter": "python",
   "pygments_lexer": "ipython3",
   "version": "3.10.6"
  },
  "orig_nbformat": 4
 },
 "nbformat": 4,
 "nbformat_minor": 2
}
