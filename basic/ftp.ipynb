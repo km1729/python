{
 "cells": [
  {
   "cell_type": "markdown",
   "id": "1e7923af",
   "metadata": {},
   "source": [
    "# ftplib - FTP protocol clinet  \n",
    "https://docs.python.org/3/library/ftplib.html  "
   ]
  },
  {
   "cell_type": "code",
   "execution_count": null,
   "id": "5f3a86ac",
   "metadata": {},
   "outputs": [],
   "source": [
    "import yaml"
   ]
  },
  {
   "cell_type": "code",
   "execution_count": null,
   "id": "668f9bb9",
   "metadata": {
    "scrolled": true
   },
   "outputs": [],
   "source": [
    "# get a list of the current directory files\n",
    "import os\n",
    "file_list = os.listdir(os.getcwd())"
   ]
  },
  {
   "cell_type": "code",
   "execution_count": null,
   "id": "98bd35e2",
   "metadata": {},
   "outputs": [],
   "source": [
    "with open('config.yml', 'r') as config_file:\n",
    "    config = yaml.safe_load(config_file)"
   ]
  },
  {
   "cell_type": "code",
   "execution_count": null,
   "id": "94e01725",
   "metadata": {},
   "outputs": [],
   "source": [
    "ftp_server = config['ftp']['server']\n",
    "ftp_id = config['ftp']['id']\n",
    "ftp_password = config['ftp']['password']\n",
    "download_dir = config['ftp']['download']"
   ]
  },
  {
   "cell_type": "code",
   "execution_count": null,
   "id": "0b9170cd",
   "metadata": {},
   "outputs": [],
   "source": [
    "from ftplib import FTP"
   ]
  },
  {
   "cell_type": "code",
   "execution_count": null,
   "id": "49550538",
   "metadata": {},
   "outputs": [],
   "source": [
    "#login as anonymous \n",
    "ftp = FTP(ftp_server)\n",
    "ftp.login() "
   ]
  },
  {
   "cell_type": "code",
   "execution_count": null,
   "id": "23cfc7e2",
   "metadata": {
    "scrolled": true
   },
   "outputs": [],
   "source": [
    "# login with ID and password\n",
    "ftp = FTP(ftp_server)\n",
    "ftp.login(user=ftp_id, passwd=ftp_password) "
   ]
  },
  {
   "cell_type": "code",
   "execution_count": null,
   "id": "85ab267d",
   "metadata": {},
   "outputs": [],
   "source": [
    "ftp.dir()"
   ]
  },
  {
   "cell_type": "code",
   "execution_count": null,
   "id": "b874a0e3",
   "metadata": {},
   "outputs": [],
   "source": [
    "ftp.pwd()"
   ]
  },
  {
   "cell_type": "code",
   "execution_count": null,
   "id": "3bdef47b",
   "metadata": {},
   "outputs": [],
   "source": [
    "ftp.cwd('nwp')"
   ]
  },
  {
   "cell_type": "code",
   "execution_count": null,
   "id": "72cb6b5e",
   "metadata": {
    "scrolled": true
   },
   "outputs": [],
   "source": [
    "ftp.dir()"
   ]
  },
  {
   "cell_type": "code",
   "execution_count": null,
   "id": "296dc044",
   "metadata": {},
   "outputs": [],
   "source": [
    "ftp.nlst()"
   ]
  },
  {
   "cell_type": "code",
   "execution_count": null,
   "id": "d063b3e1",
   "metadata": {},
   "outputs": [],
   "source": [
    "ftp.pwd()"
   ]
  },
  {
   "cell_type": "code",
   "execution_count": null,
   "id": "4ada7a43",
   "metadata": {},
   "outputs": [],
   "source": [
    "file_list = ftp.nlst()\n",
    "\n",
    "for file in file_list:\n",
    "    file_path = f\"{download_dir}/{file}\"\n",
    "    with open(file_path, \"wb\") as local_file:\n",
    "        ftp.retrbinary(\"RETR \" + file, local_file.write )\n"
   ]
  },
  {
   "cell_type": "code",
   "execution_count": null,
   "id": "e38251b8",
   "metadata": {},
   "outputs": [],
   "source": [
    "# file download\n",
    "\n",
    "# retrlines(\"RETR filename.txt\") # 아스키 파일, RETR뒤에 공백 있음\n",
    "# retrbinary(\"RETR filename.nc\") # 바이너리 파일"
   ]
  },
  {
   "cell_type": "code",
   "execution_count": null,
   "id": "502efa5b",
   "metadata": {},
   "outputs": [],
   "source": [
    "# file upload\n",
    "\n",
    "# storelines(\"STOR filename.txt\")\n",
    "# storebinary(\"STOR filename.nc\")"
   ]
  }
 ],
 "metadata": {
  "kernelspec": {
   "display_name": "Python 3 (ipykernel)",
   "language": "python",
   "name": "python3"
  },
  "language_info": {
   "codemirror_mode": {
    "name": "ipython",
    "version": 3
   },
   "file_extension": ".py",
   "mimetype": "text/x-python",
   "name": "python",
   "nbconvert_exporter": "python",
   "pygments_lexer": "ipython3",
   "version": "3.9.12"
  }
 },
 "nbformat": 4,
 "nbformat_minor": 5
}
