{
 "cells": [
  {
   "cell_type": "code",
   "execution_count": 18,
   "metadata": {},
   "outputs": [],
   "source": [
    "import textwrap\n",
    "\n",
    "# Text wrapping and fillinga\n",
    "# https://docs.python.org/3/library/textwrap.html#module-textwrap"
   ]
  },
  {
   "cell_type": "code",
   "execution_count": 6,
   "metadata": {},
   "outputs": [],
   "source": [
    "text = 'The trail to the left had a \"Danger! Do Not Pass\" sign telling people to take the trail to the right. This wasn\\'t the way Zeke approached his hiking. Rather than a warning, Zeke read the sign as an invitation to explore an area that would be adventurous and exciting. As the others in the group all shited to the right, Zeke slipped past the danger sign to begin an adventure he would later regret.'"
   ]
  },
  {
   "cell_type": "code",
   "execution_count": 7,
   "metadata": {},
   "outputs": [
    {
     "data": {
      "text/plain": [
       "['The trail to the left had a',\n",
       " '\"Danger! Do Not Pass\" sign',\n",
       " 'telling people to take the',\n",
       " 'trail to the right. This',\n",
       " \"wasn't the way Zeke approached\",\n",
       " 'his hiking. Rather than a',\n",
       " 'warning, Zeke read the sign as',\n",
       " 'an invitation to explore an',\n",
       " 'area that would be adventurous',\n",
       " 'and exciting. As the others in',\n",
       " 'the group all shited to the',\n",
       " 'right, Zeke slipped past the',\n",
       " 'danger sign to begin an',\n",
       " 'adventure he would later',\n",
       " 'regret.']"
      ]
     },
     "execution_count": 7,
     "metadata": {},
     "output_type": "execute_result"
    }
   ],
   "source": [
    "textwrap.wrap(text,width=30)"
   ]
  },
  {
   "cell_type": "code",
   "execution_count": 9,
   "metadata": {},
   "outputs": [
    {
     "data": {
      "text/plain": [
       "'The trail to the left had a\\n\"Danger! Do Not Pass\" sign\\ntelling people to take the\\ntrail to the right. This\\nwasn\\'t the way Zeke approached\\nhis hiking. Rather than a\\nwarning, Zeke read the sign as\\nan invitation to explore an\\narea that would be adventurous\\nand exciting. As the others in\\nthe group all shited to the\\nright, Zeke slipped past the\\ndanger sign to begin an\\nadventure he would later\\nregret.'"
      ]
     },
     "execution_count": 9,
     "metadata": {},
     "output_type": "execute_result"
    }
   ],
   "source": [
    "textwrap.fill(text,width=30)"
   ]
  },
  {
   "cell_type": "code",
   "execution_count": 5,
   "metadata": {},
   "outputs": [
    {
     "data": {
      "text/plain": [
       "'Hello...'"
      ]
     },
     "execution_count": 5,
     "metadata": {},
     "output_type": "execute_result"
    }
   ],
   "source": [
    "textwrap.shorten(\"Hello Wrold!\", width=10, placeholder=\"...\")"
   ]
  },
  {
   "cell_type": "code",
   "execution_count": 14,
   "metadata": {},
   "outputs": [
    {
     "data": {
      "text/plain": [
       "'    The trail to the left had a\\n    \"Danger! Do Not Pass\" sign\\n    telling people to take the\\n    trail to the right. This\\n    wasn\\'t the way Zeke approached\\n    his hiking. Rather than a\\n    warning, Zeke read the sign as\\n    an invitation to explore an\\n    area that would be adventurous\\n    and exciting. As the others in\\n    the group all shited to the\\n    right, Zeke slipped past the\\n    danger sign to begin an\\n    adventure he would later\\n    regret.'"
      ]
     },
     "execution_count": 14,
     "metadata": {},
     "output_type": "execute_result"
    }
   ],
   "source": [
    "textwrap.indent(textwrap.fill(text, width=30),'    ')"
   ]
  },
  {
   "cell_type": "code",
   "execution_count": 15,
   "metadata": {},
   "outputs": [
    {
     "data": {
      "text/plain": [
       "'    The trail to the left had a \"Danger! Do Not Pass\" sign telling people to take the trail to the right. This wasn\\'t the way Zeke approached his hiking. Rather than a warning, Zeke read the sign as an invitation to explore an area that would be adventurous and exciting. As the others in the group all shited to the right, Zeke slipped past the danger sign to begin an adventure he would later regret.'"
      ]
     },
     "execution_count": 15,
     "metadata": {},
     "output_type": "execute_result"
    }
   ],
   "source": [
    "textwrap.indent(text,'    ')"
   ]
  },
  {
   "cell_type": "code",
   "execution_count": 10,
   "metadata": {},
   "outputs": [
    {
     "data": {
      "text/plain": [
       "'The trail to the left had a \"Danger! Do Not Pass\" sign telling people to take the trail to the right. This wasn\\'t the way Zeke approached his hiking. Rather than a warning, Zeke read the sign as an invitation to explore an area that would be adventurous and exciting. As the others in the group all shited to the right, Zeke slipped past the danger sign to begin an adventure he would later regret.'"
      ]
     },
     "execution_count": 10,
     "metadata": {},
     "output_type": "execute_result"
    }
   ],
   "source": [
    "textwrap.dedent(text)"
   ]
  },
  {
   "cell_type": "code",
   "execution_count": null,
   "metadata": {},
   "outputs": [],
   "source": []
  },
  {
   "cell_type": "code",
   "execution_count": null,
   "metadata": {},
   "outputs": [],
   "source": []
  }
 ],
 "metadata": {
  "kernelspec": {
   "display_name": "base",
   "language": "python",
   "name": "python3"
  },
  "language_info": {
   "codemirror_mode": {
    "name": "ipython",
    "version": 3
   },
   "file_extension": ".py",
   "mimetype": "text/x-python",
   "name": "python",
   "nbconvert_exporter": "python",
   "pygments_lexer": "ipython3",
   "version": "3.10.10"
  },
  "orig_nbformat": 4
 },
 "nbformat": 4,
 "nbformat_minor": 2
}
