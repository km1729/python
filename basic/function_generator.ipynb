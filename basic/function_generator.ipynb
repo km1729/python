{
 "cells": [
  {
   "cell_type": "code",
   "execution_count": 2,
   "metadata": {},
   "outputs": [
    {
     "name": "stdout",
     "output_type": "stream",
     "text": [
      "A\n",
      "B\n",
      "C\n"
     ]
    }
   ],
   "source": [
    "def return_abc():\n",
    "    return list(\"ABC\")\n",
    "\n",
    "for i in return_abc():\n",
    "    print(i)"
   ]
  },
  {
   "cell_type": "code",
   "execution_count": 3,
   "metadata": {},
   "outputs": [
    {
     "name": "stdout",
     "output_type": "stream",
     "text": [
      "A\n",
      "B\n",
      "C\n"
     ]
    }
   ],
   "source": [
    "def yield_abc():\n",
    "    yield \"A\"\n",
    "    yield \"B\"\n",
    "    yield \"C\"\n",
    "\n",
    "for i in yield_abc():\n",
    "    print(i)"
   ]
  },
  {
   "cell_type": "code",
   "execution_count": 7,
   "metadata": {},
   "outputs": [
    {
     "name": "stdout",
     "output_type": "stream",
     "text": [
      "['A', 'B', 'C']\n",
      "<generator object yield_abc at 0x000002A82050E900>\n"
     ]
    }
   ],
   "source": [
    "# 함수는 값을 generator는 object를 반환한다\n",
    "print(return_abc())\n",
    "print(yield_abc())"
   ]
  },
  {
   "cell_type": "code",
   "execution_count": 9,
   "metadata": {},
   "outputs": [],
   "source": [
    "import time\n",
    "\n",
    "\n",
    "def return_abc2():\n",
    "    list = []\n",
    "    for i in \"ABC\":\n",
    "        time.sleep(1)\n",
    "        list.append(i)\n",
    "    return list\n",
    "\n",
    "def yield_abc2():\n",
    "    for i in \"ABC\":\n",
    "        time.sleep(1)\n",
    "        yield i\n"
   ]
  },
  {
   "cell_type": "code",
   "execution_count": 13,
   "metadata": {},
   "outputs": [
    {
     "name": "stdout",
     "output_type": "stream",
     "text": [
      "A\n",
      "B\n",
      "C\n"
     ]
    }
   ],
   "source": [
    "# 함수를 리턴한것은 3초를 기다린 후에 리스트를 완성 한 후 반환한다\n",
    "for i in return_abc2():\n",
    "    print(i)"
   ]
  },
  {
   "cell_type": "code",
   "execution_count": 15,
   "metadata": {},
   "outputs": [
    {
     "name": "stdout",
     "output_type": "stream",
     "text": [
      "A\n",
      "B\n",
      "C\n"
     ]
    }
   ],
   "source": [
    "#generator는 1초마다 결과를 반환한다\n",
    "for i in yield_abc2():\n",
    "    print(i)"
   ]
  },
  {
   "cell_type": "code",
   "execution_count": 16,
   "metadata": {},
   "outputs": [
    {
     "name": "stdout",
     "output_type": "stream",
     "text": [
      "0\n",
      "1\n",
      "2\n"
     ]
    }
   ],
   "source": [
    "def number_generator(stop):\n",
    "    n = 0\n",
    "    while n < stop:\n",
    "        yield n                         # 여기서 함수를 반환\n",
    "        n += 1\n",
    " \n",
    "def three_generator():\n",
    "    yield from number_generator(3)      # 파라미터, 여기서는 3번 숫자를 반환\n",
    " \n",
    "for i in three_generator():\n",
    "    print(i)"
   ]
  },
  {
   "cell_type": "code",
   "execution_count": 20,
   "metadata": {},
   "outputs": [
    {
     "name": "stdout",
     "output_type": "stream",
     "text": [
      "[0, 2, 4, 6, 8, 10, 12, 14, 16, 18, 20, 22, 24, 26, 28, 30, 32, 34, 36, 38, 40, 42, 44, 46, 48]\n",
      "<generator object <genexpr> at 0x000002A82053B2E0>\n"
     ]
    }
   ],
   "source": [
    "# 표현식\n",
    "# 리스트 \n",
    "print([i for i in range(50) if i % 2 == 0])\n",
    "# generator\n",
    "print((i for i in range(50) if i % 2 == 0))"
   ]
  },
  {
   "cell_type": "code",
   "execution_count": null,
   "metadata": {},
   "outputs": [],
   "source": []
  }
 ],
 "metadata": {
  "kernelspec": {
   "display_name": "Python 3.9.12 ('base')",
   "language": "python",
   "name": "python3"
  },
  "language_info": {
   "codemirror_mode": {
    "name": "ipython",
    "version": 3
   },
   "file_extension": ".py",
   "mimetype": "text/x-python",
   "name": "python",
   "nbconvert_exporter": "python",
   "pygments_lexer": "ipython3",
   "version": "3.9.18"
  },
  "orig_nbformat": 4,
  "vscode": {
   "interpreter": {
    "hash": "51480fad90fe9d21f60dbdf1474e71297e9cf7d519346d7c8ab062a40f50e1c0"
   }
  }
 },
 "nbformat": 4,
 "nbformat_minor": 2
}
