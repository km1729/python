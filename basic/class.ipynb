{
 "cells": [
  {
   "cell_type": "code",
   "execution_count": 1,
   "metadata": {},
   "outputs": [],
   "source": [
    "class FourCal:\n",
    "    def setdata(self, first, second):\n",
    "        self.first = first\n",
    "        self.second = second\n",
    "\n",
    "    def add(self):\n",
    "        return self.first + self.second\n",
    "    \n",
    "    def sub(self):        \n",
    "        return self.first - self.second\n",
    "\n",
    "    def mul(self):\n",
    "        return self.first * self.second\n",
    "    \n",
    "    def div(self):\n",
    "        return self.first / self.second"
   ]
  },
  {
   "cell_type": "code",
   "execution_count": 2,
   "metadata": {},
   "outputs": [
    {
     "name": "stdout",
     "output_type": "stream",
     "text": [
      "6\n",
      "2\n",
      "8\n",
      "2\n"
     ]
    }
   ],
   "source": [
    "a = FourCal()\n",
    "a.setdata(4,2)\n",
    "print(a.add())\n",
    "print(a.sub())\n",
    "print(a.mul())\n",
    "print(a.sub())"
   ]
  },
  {
   "cell_type": "code",
   "execution_count": 3,
   "metadata": {},
   "outputs": [
    {
     "name": "stdout",
     "output_type": "stream",
     "text": [
      "12\n",
      "6\n",
      "27\n",
      "6\n"
     ]
    }
   ],
   "source": [
    "b = FourCal()\n",
    "b.setdata(9,3)\n",
    "print(b.add())\n",
    "print(b.sub())\n",
    "print(b.mul())\n",
    "print(b.sub())"
   ]
  },
  {
   "cell_type": "code",
   "execution_count": 4,
   "metadata": {},
   "outputs": [],
   "source": [
    "class FourCal2:\n",
    "    def __init__(self, first, second):\n",
    "        self.first = first\n",
    "        self.second = second\n",
    "\n",
    "    def add(self):\n",
    "        return self.first + self.second\n",
    "    \n",
    "    def sub(self):        \n",
    "        return self.first - self.second\n",
    "\n",
    "    def mul(self):\n",
    "        return self.first * self.second\n",
    "    \n",
    "    def div(self):\n",
    "        return self.first / self.second"
   ]
  },
  {
   "cell_type": "code",
   "execution_count": 5,
   "metadata": {},
   "outputs": [
    {
     "ename": "TypeError",
     "evalue": "__init__() missing 2 required positional arguments: 'first' and 'second'",
     "output_type": "error",
     "traceback": [
      "\u001b[1;31m---------------------------------------------------------------------------\u001b[0m",
      "\u001b[1;31mTypeError\u001b[0m                                 Traceback (most recent call last)",
      "\u001b[1;32mc:\\Users\\Kelly\\Desktop\\x\\practices\\python\\b_class.ipynb Cell 5\u001b[0m in \u001b[0;36m<cell line: 2>\u001b[1;34m()\u001b[0m\n\u001b[0;32m      <a href='vscode-notebook-cell:/c%3A/Users/Kelly/Desktop/x/practices/python/b_class.ipynb#ch0000004?line=0'>1</a>\u001b[0m \u001b[39m# init method required arguments\u001b[39;00m\n\u001b[1;32m----> <a href='vscode-notebook-cell:/c%3A/Users/Kelly/Desktop/x/practices/python/b_class.ipynb#ch0000004?line=1'>2</a>\u001b[0m c \u001b[39m=\u001b[39m FourCal2()\n",
      "\u001b[1;31mTypeError\u001b[0m: __init__() missing 2 required positional arguments: 'first' and 'second'"
     ]
    }
   ],
   "source": [
    "# init method required arguments\n",
    "c = FourCal2()"
   ]
  },
  {
   "cell_type": "code",
   "execution_count": null,
   "metadata": {},
   "outputs": [],
   "source": [
    "c = FourCal2(4,2)\n",
    "print(a.add())\n",
    "print(a.sub())\n",
    "print(a.mul())\n",
    "print(a.sub())"
   ]
  },
  {
   "cell_type": "markdown",
   "metadata": {},
   "source": [
    "Inheritance"
   ]
  },
  {
   "cell_type": "code",
   "execution_count": null,
   "metadata": {},
   "outputs": [],
   "source": [
    "class MoreFourCal(FourCal2):\n",
    "    def pow(self):\n",
    "        return self.first ** self.second"
   ]
  },
  {
   "cell_type": "code",
   "execution_count": null,
   "metadata": {},
   "outputs": [],
   "source": [
    "d = MoreFourCal(4,2)\n",
    "print(d.add())\n",
    "print(d.mul())\n",
    "print(d.pow())"
   ]
  },
  {
   "cell_type": "markdown",
   "metadata": {},
   "source": [
    "Overriding"
   ]
  },
  {
   "cell_type": "code",
   "execution_count": null,
   "metadata": {},
   "outputs": [],
   "source": [
    "class MoreFourCal2(MoreFourCal):\n",
    "    def div(self):\n",
    "        if self.second == 0:\n",
    "            return 0\n",
    "        else:\n",
    "            return self.first/self.second"
   ]
  },
  {
   "cell_type": "code",
   "execution_count": null,
   "metadata": {},
   "outputs": [],
   "source": [
    "e = MoreFourCal2(4,0)\n",
    "print(a.add())\n",
    "print(e.mul())\n",
    "print(e.div())"
   ]
  },
  {
   "cell_type": "code",
   "execution_count": null,
   "metadata": {},
   "outputs": [],
   "source": [
    "f = MoreFourCal(4,0)\n",
    "print(f.div())"
   ]
  },
  {
   "cell_type": "markdown",
   "metadata": {},
   "source": [
    "attr"
   ]
  },
  {
   "cell_type": "code",
   "execution_count": 34,
   "metadata": {},
   "outputs": [
    {
     "name": "stdout",
     "output_type": "stream",
     "text": [
      "kelly\n"
     ]
    },
    {
     "data": {
      "text/plain": [
       "'kelly'"
      ]
     },
     "execution_count": 34,
     "metadata": {},
     "output_type": "execute_result"
    }
   ],
   "source": [
    "#getattr (obj, attr_name)\n",
    "class Student:\n",
    "    name = 'kelly'\n",
    "    mark = 88\n",
    "\n",
    "person = Student()\n",
    "print(person.name)\n",
    "\n",
    "name2 = getattr(person, 'name')\n",
    "name2"
   ]
  },
  {
   "cell_type": "code",
   "execution_count": 13,
   "metadata": {},
   "outputs": [
    {
     "name": "stdout",
     "output_type": "stream",
     "text": [
      "F\n"
     ]
    }
   ],
   "source": [
    "#setattr (obj, attr_name, value)\n",
    "setattr(person, 'gender', 'F')\n",
    "print(person.gender)"
   ]
  },
  {
   "cell_type": "code",
   "execution_count": 14,
   "metadata": {},
   "outputs": [
    {
     "name": "stdout",
     "output_type": "stream",
     "text": [
      "True\n",
      "True\n"
     ]
    }
   ],
   "source": [
    "#hasattr (obj, attr_name)\n",
    "print(hasattr(person, 'name'))\n",
    "print(hasattr(person, 'gender'))"
   ]
  },
  {
   "cell_type": "code",
   "execution_count": 36,
   "metadata": {},
   "outputs": [
    {
     "name": "stdout",
     "output_type": "stream",
     "text": [
      "['__class__', '__delattr__', '__dict__', '__dir__', '__doc__', '__eq__', '__format__', '__ge__', '__getattribute__', '__gt__', '__hash__', '__init__', '__init_subclass__', '__le__', '__lt__', '__module__', '__ne__', '__new__', '__reduce__', '__reduce_ex__', '__repr__', '__setattr__', '__sizeof__', '__str__', '__subclasshook__', '__weakref__', 'mark', 'name']\n"
     ]
    }
   ],
   "source": [
    "print(dir(person))"
   ]
  },
  {
   "cell_type": "code",
   "execution_count": 32,
   "metadata": {},
   "outputs": [
    {
     "name": "stdout",
     "output_type": "stream",
     "text": [
      "{'gender': 'F'}\n",
      "(<class '__main__.Student'>, <class 'object'>)\n"
     ]
    }
   ],
   "source": [
    "print(person.__dict__)\n",
    "print(person.__class__.__mro__)"
   ]
  },
  {
   "cell_type": "code",
   "execution_count": 33,
   "metadata": {},
   "outputs": [
    {
     "name": "stdout",
     "output_type": "stream",
     "text": [
      "__class__ <class '__main__.Student'>\n",
      "__delattr__ <method-wrapper '__delattr__' of Student object at 0x00000201E7F5B250>\n",
      "__dict__ {'gender': 'F'}\n",
      "__dir__ <built-in method __dir__ of Student object at 0x00000201E7F5B250>\n",
      "__doc__ None\n",
      "__eq__ <method-wrapper '__eq__' of Student object at 0x00000201E7F5B250>\n",
      "__format__ <built-in method __format__ of Student object at 0x00000201E7F5B250>\n",
      "__ge__ <method-wrapper '__ge__' of Student object at 0x00000201E7F5B250>\n",
      "__getattribute__ <method-wrapper '__getattribute__' of Student object at 0x00000201E7F5B250>\n",
      "__gt__ <method-wrapper '__gt__' of Student object at 0x00000201E7F5B250>\n",
      "__hash__ <method-wrapper '__hash__' of Student object at 0x00000201E7F5B250>\n",
      "__init__ <method-wrapper '__init__' of Student object at 0x00000201E7F5B250>\n",
      "__init_subclass__ <built-in method __init_subclass__ of type object at 0x00000201E58A9560>\n",
      "__le__ <method-wrapper '__le__' of Student object at 0x00000201E7F5B250>\n",
      "__lt__ <method-wrapper '__lt__' of Student object at 0x00000201E7F5B250>\n",
      "__module__ __main__\n",
      "__ne__ <method-wrapper '__ne__' of Student object at 0x00000201E7F5B250>\n",
      "__new__ <built-in method __new__ of type object at 0x00007FFC5440BE00>\n",
      "__reduce__ <built-in method __reduce__ of Student object at 0x00000201E7F5B250>\n",
      "__reduce_ex__ <built-in method __reduce_ex__ of Student object at 0x00000201E7F5B250>\n",
      "__repr__ <method-wrapper '__repr__' of Student object at 0x00000201E7F5B250>\n",
      "__setattr__ <method-wrapper '__setattr__' of Student object at 0x00000201E7F5B250>\n",
      "__sizeof__ <built-in method __sizeof__ of Student object at 0x00000201E7F5B250>\n",
      "__str__ <method-wrapper '__str__' of Student object at 0x00000201E7F5B250>\n",
      "__subclasshook__ <built-in method __subclasshook__ of type object at 0x00000201E58A9560>\n",
      "__weakref__ None\n",
      "gender F\n",
      "mark 88\n",
      "name kelly\n"
     ]
    }
   ],
   "source": [
    "for att in dir(person):\n",
    "    print (att, getattr(person, att))"
   ]
  },
  {
   "cell_type": "code",
   "execution_count": 17,
   "metadata": {},
   "outputs": [
    {
     "name": "stdout",
     "output_type": "stream",
     "text": [
      "['__class__', '__delattr__', '__dict__', '__dir__', '__doc__', '__eq__', '__format__', '__ge__', '__getattribute__', '__gt__', '__hash__', '__init__', '__init_subclass__', '__le__', '__lt__', '__module__', '__ne__', '__new__', '__reduce__', '__reduce_ex__', '__repr__', '__setattr__', '__sizeof__', '__str__', '__subclasshook__', '__weakref__', 'add', 'div', 'first', 'mul', 'second', 'setdata', 'sub']\n"
     ]
    }
   ],
   "source": [
    "print(dir(a))"
   ]
  },
  {
   "cell_type": "code",
   "execution_count": 23,
   "metadata": {},
   "outputs": [
    {
     "name": "stdout",
     "output_type": "stream",
     "text": [
      "{'first': 4, 'second': 2}\n"
     ]
    }
   ],
   "source": [
    "print(a.__dict__)"
   ]
  },
  {
   "cell_type": "markdown",
   "metadata": {},
   "source": [
    "abstractmethod  \n",
    "객체지향 프로그래밍에서 추상클래스란 메서드의 이름만 존재하는 클래스이다. 부모클라스에서 메서드만 정의하고 상속받은 클래스가 해당 메서드를 반드시 구현해야 한다.  "
   ]
  },
  {
   "cell_type": "code",
   "execution_count": 37,
   "metadata": {},
   "outputs": [],
   "source": [
    "from abc import abstractmethod\n",
    "\n",
    "\n",
    "class Cal:\n",
    "    @abstractmethod\n",
    "    def add(self):\n",
    "        pass\n",
    "\n",
    "class Sum(Cal):\n",
    "    def add(self):\n",
    "        print('sum')"
   ]
  },
  {
   "cell_type": "code",
   "execution_count": 38,
   "metadata": {},
   "outputs": [],
   "source": [
    "cal1 = Cal()\n",
    "cal1.add()"
   ]
  },
  {
   "cell_type": "code",
   "execution_count": 39,
   "metadata": {},
   "outputs": [
    {
     "name": "stdout",
     "output_type": "stream",
     "text": [
      "sum\n"
     ]
    }
   ],
   "source": [
    "cal2 = Sum()\n",
    "cal2.add()"
   ]
  },
  {
   "cell_type": "markdown",
   "metadata": {},
   "source": [
    "# Nomad\n",
    "https://nomadcoders.co/python-for-beginners/lectures/4665"
   ]
  },
  {
   "cell_type": "code",
   "execution_count": 60,
   "metadata": {},
   "outputs": [],
   "source": [
    "class Dog:\n",
    "    def __init__(self, name, age, breed):\n",
    "        self.name = name\n",
    "        self.age = age\n",
    "        self.breed = breed\n",
    "    \n",
    "    def __str__(self):\n",
    "        return f\"Puppy name: {self.name}, Breed: {self.breed} /n\"\n",
    "    \n",
    "    def introduce(self):\n",
    "        print(f\" My name is {self.name} ~\")\n",
    "    \n",
    "    def sleep(self):\n",
    "        print(f\" Zzzzz... \")\n",
    "\n",
    "\n",
    "class Puppy(Dog): \n",
    "    def __init__(self, name, breed):\n",
    "        super().__init__(name, breed, 0.1)\n",
    "        self.spoiled = True\n",
    "\n",
    "    def woof_woof(self):\n",
    "        print(\"Woof Woof~!!\")\n",
    "        \n",
    "\n",
    "class GuideDog(Dog):\n",
    "    def __init__(self, name, breed):\n",
    "        super().__init__(name, breed, 0.5)\n",
    "        self.aggresive = True\n",
    "\n",
    "    def rrrr(self):\n",
    "        print(\"rrrrr Stay away!\")"
   ]
  },
  {
   "cell_type": "code",
   "execution_count": 62,
   "metadata": {},
   "outputs": [
    {
     "name": "stdout",
     "output_type": "stream",
     "text": [
      "Puppy name: Ruffus, Breed: 0.1 /n Puppy name: Snikers, Breed: 0.5 /n\n",
      "Woof Woof~!!\n",
      "None\n",
      "rrrrr Stay away!\n",
      "None\n"
     ]
    }
   ],
   "source": [
    "ruffus = Puppy(name=\"Ruffus\", breed=\"Beagle\")\n",
    "Kaycee = GuideDog(name=\"Snikers\",breed=\"Dalmatian\")\n",
    "print(ruffus, Kaycee)\n",
    "print(ruffus.woof_woof())\n",
    "print(Kaycee.rrrr())"
   ]
  },
  {
   "cell_type": "code",
   "execution_count": 150,
   "metadata": {},
   "outputs": [],
   "source": [
    "class Player:\n",
    "\n",
    "  def __init__(self, name, team):\n",
    "    self.name = name\n",
    "    self.xp = 1500\n",
    "    self.team = team\n",
    "\n",
    "  def introduce(self):\n",
    "    print(f\"Hello, I'm {self.name} and in {self.team}\")\n",
    "\n",
    "\n",
    "class Team:\n",
    "\n",
    "  def __init__(self, team_name):\n",
    "    self.name = team_name\n",
    "    self.players = []\n",
    "\n",
    "  def show_players(self):\n",
    "    for player in self.players:\n",
    "      player.introduce()\n",
    "\n",
    "  def add_player(self, name):\n",
    "    new_player = Player(name, self.name)\n",
    "    self.players.append(new_player)\n",
    "\n",
    "  def del_player(self, name):\n",
    "    for player in self.players:\n",
    "      if name == player.name:\n",
    "        self.players.remove(player)\n",
    "        print(f\"{name} removed\")\n",
    "\n",
    "  def total_exp(self):\n",
    "    sum_xp = 0\n",
    "    for player in self.players:\n",
    "      sum_xp += player.xp\n",
    "    print(f\"{self.name}'s sum of xp is {sum_xp}\")"
   ]
  },
  {
   "cell_type": "code",
   "execution_count": 151,
   "metadata": {},
   "outputs": [],
   "source": [
    "team_x = Team(\"Team X\")\n",
    "team_blue = Team(\"Team Blue\")\n",
    "\n",
    "team_x.add_player(\"Nico\")\n",
    "team_x.add_player(\"Kaycee\")\n",
    "team_x.add_player(\"Charlie\")\n",
    "\n",
    "team_blue.add_player(\"Snikers\")\n",
    "team_blue.add_player(\"Flower\")"
   ]
  },
  {
   "cell_type": "code",
   "execution_count": 152,
   "metadata": {},
   "outputs": [
    {
     "name": "stdout",
     "output_type": "stream",
     "text": [
      "Hello, I'm Nico and in Team X\n",
      "Hello, I'm Kaycee and in Team X\n",
      "Hello, I'm Charlie and in Team X\n",
      "Nico removed\n",
      "Hello, I'm Kaycee and in Team X\n",
      "Hello, I'm Charlie and in Team X\n",
      "Team X's sum of xp is 3000\n"
     ]
    }
   ],
   "source": [
    "team_x.show_players()\n",
    "team_x.del_player(\"Nico\")\n",
    "team_x.show_players()\n",
    "team_x.total_exp()"
   ]
  },
  {
   "cell_type": "code",
   "execution_count": 153,
   "metadata": {},
   "outputs": [
    {
     "name": "stdout",
     "output_type": "stream",
     "text": [
      "Hello, I'm Snikers and in Team Blue\n",
      "Hello, I'm Flower and in Team Blue\n",
      "Flower removed\n",
      "Hello, I'm Snikers and in Team Blue\n",
      "Team Blue's sum of xp is 1500\n"
     ]
    }
   ],
   "source": [
    "team_blue.show_players()\n",
    "team_blue.del_player(\"Flower\")\n",
    "team_blue.show_players()\n",
    "team_blue.total_exp()"
   ]
  },
  {
   "cell_type": "code",
   "execution_count": 93,
   "metadata": {},
   "outputs": [
    {
     "name": "stdout",
     "output_type": "stream",
     "text": [
      "Hello I'm Nico and in Team X\n",
      "Hello I'm Kaycee and in Team X\n",
      "Hello I'm Charlie and in Team X\n"
     ]
    }
   ],
   "source": [
    "team_x.show_players()"
   ]
  },
  {
   "cell_type": "code",
   "execution_count": null,
   "metadata": {},
   "outputs": [],
   "source": []
  }
 ],
 "metadata": {
  "kernelspec": {
   "display_name": "Python 3.10.6 64-bit",
   "language": "python",
   "name": "python3"
  },
  "language_info": {
   "codemirror_mode": {
    "name": "ipython",
    "version": 3
   },
   "file_extension": ".py",
   "mimetype": "text/x-python",
   "name": "python",
   "nbconvert_exporter": "python",
   "pygments_lexer": "ipython3",
   "version": "3.11.5"
  },
  "orig_nbformat": 4,
  "vscode": {
   "interpreter": {
    "hash": "916dbcbb3f70747c44a77c7bcd40155683ae19c65e1c03b4aa3499c5328201f1"
   }
  }
 },
 "nbformat": 4,
 "nbformat_minor": 2
}
