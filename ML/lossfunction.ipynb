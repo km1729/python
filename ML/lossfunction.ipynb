{
 "cells": [
  {
   "cell_type": "code",
   "execution_count": 28,
   "metadata": {},
   "outputs": [],
   "source": [
    "import numpy as np\n",
    "import math\n",
    "\n",
    "def MSE(d,p,n):\n",
    "    return (1/n) * np.sum((d-p)**2)\n",
    "\n",
    "def RMSE(d,p,n):\n",
    "    return math.sqrt((1/n) * np.sum((d-p)**2))"
   ]
  },
  {
   "cell_type": "code",
   "execution_count": 26,
   "metadata": {},
   "outputs": [
    {
     "name": "stdout",
     "output_type": "stream",
     "text": [
      "10\n",
      "10\n"
     ]
    }
   ],
   "source": [
    "t = np.array([0, 0, 0, 0.5, 0.5, 0, 0, 0, 0, 0]) #actual\n",
    "y = np.array([2, 0.01, 0.1, 0.3, 0.33, 0.04, 0.02, 0.05, 0.01, 0.1]) #predicted\n",
    "\n",
    "print(len(t))\n",
    "print(len(y))\n"
   ]
  },
  {
   "cell_type": "code",
   "execution_count": 29,
   "metadata": {},
   "outputs": [
    {
     "name": "stdout",
     "output_type": "stream",
     "text": [
      "0.40935999999999995\n",
      "0.63981247252613\n"
     ]
    }
   ],
   "source": [
    "print(MSE(t,y,len(t)))\n",
    "print(RMSE(t,y,len(t)))"
   ]
  }
 ],
 "metadata": {
  "kernelspec": {
   "display_name": "Python 3.9.12 ('base')",
   "language": "python",
   "name": "python3"
  },
  "language_info": {
   "codemirror_mode": {
    "name": "ipython",
    "version": 3
   },
   "file_extension": ".py",
   "mimetype": "text/x-python",
   "name": "python",
   "nbconvert_exporter": "python",
   "pygments_lexer": "ipython3",
   "version": "3.9.12"
  },
  "orig_nbformat": 4,
  "vscode": {
   "interpreter": {
    "hash": "51480fad90fe9d21f60dbdf1474e71297e9cf7d519346d7c8ab062a40f50e1c0"
   }
  }
 },
 "nbformat": 4,
 "nbformat_minor": 2
}
