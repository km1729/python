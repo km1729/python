{
 "cells": [
  {
   "cell_type": "code",
   "execution_count": 1,
   "metadata": {},
   "outputs": [],
   "source": [
    "from datetime import datetime "
   ]
  },
  {
   "cell_type": "code",
   "execution_count": 2,
   "metadata": {},
   "outputs": [
    {
     "data": {
      "text/plain": [
       "datetime.datetime(2022, 1, 31, 0, 0)"
      ]
     },
     "execution_count": 2,
     "metadata": {},
     "output_type": "execute_result"
    }
   ],
   "source": [
    "d1 = '20220131'\n",
    "d2 = datetime.strptime(d1,'%Y%m%d')\n",
    "d2"
   ]
  },
  {
   "cell_type": "code",
   "execution_count": 3,
   "metadata": {},
   "outputs": [
    {
     "name": "stdout",
     "output_type": "stream",
     "text": [
      "2022-01-31\n",
      "00:00:00\n"
     ]
    }
   ],
   "source": [
    "print(d2.date())\n",
    "print(d2.time())"
   ]
  },
  {
   "cell_type": "code",
   "execution_count": 6,
   "metadata": {},
   "outputs": [
    {
     "name": "stdout",
     "output_type": "stream",
     "text": [
      "2022-05-14 12:54:12\n",
      "2022-05-14\n",
      "12:54:12\n"
     ]
    }
   ],
   "source": [
    "d3 = '20220514125412'\n",
    "d4=datetime.strptime(d3,'%Y%m%d%H%M%S')\n",
    "print(d4)\n",
    "print(d4.date())\n",
    "print(d4.time())"
   ]
  },
  {
   "cell_type": "code",
   "execution_count": 14,
   "metadata": {},
   "outputs": [
    {
     "name": "stdout",
     "output_type": "stream",
     "text": [
      "20220630135642AEST\n",
      "2022-06-30 13:56:42\n",
      "None\n",
      "20220630135642+1000\n",
      "2022-06-30 13:56:42+10:00\n",
      "UTC+10:00\n",
      "<class 'datetime.datetime'>\n"
     ]
    }
   ],
   "source": [
    "d5 = '20220630135642'\n",
    "d8 = d5+'+1000'\n",
    "print(d8)\n",
    "d9 = datetime.strptime(d8, '%Y%m%d%H%M%S%z')\n",
    "print(d9)\n",
    "print(d9.tzname())\n",
    "print(type(d9))"
   ]
  },
  {
   "cell_type": "code",
   "execution_count": null,
   "metadata": {},
   "outputs": [],
   "source": []
  }
 ],
 "metadata": {
  "kernelspec": {
   "display_name": "Python 3.9.7 ('auto')",
   "language": "python",
   "name": "python3"
  },
  "language_info": {
   "codemirror_mode": {
    "name": "ipython",
    "version": 3
   },
   "file_extension": ".py",
   "mimetype": "text/x-python",
   "name": "python",
   "nbconvert_exporter": "python",
   "pygments_lexer": "ipython3",
   "version": "3.9.7"
  },
  "orig_nbformat": 4,
  "vscode": {
   "interpreter": {
    "hash": "2b88079544c908de0af3fef56119d39da0bc736d40dc3d04387304d3f6be4e46"
   }
  }
 },
 "nbformat": 4,
 "nbformat_minor": 2
}
