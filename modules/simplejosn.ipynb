{
 "cells": [
  {
   "cell_type": "code",
   "execution_count": 1,
   "metadata": {},
   "outputs": [],
   "source": [
    "import simplejson as json"
   ]
  },
  {
   "cell_type": "code",
   "execution_count": 10,
   "metadata": {},
   "outputs": [
    {
     "data": {
      "text/plain": [
       "{'fruit': ['banana', 'apple'], 'store': 'burwood', 'sales': 50000}"
      ]
     },
     "execution_count": 10,
     "metadata": {},
     "output_type": "execute_result"
    }
   ],
   "source": [
    "data = {\"fruit\":['banana','apple'], \n",
    "        'store':'burwood',\n",
    "        'sales': 50000\n",
    "        }\n",
    "data"
   ]
  },
  {
   "cell_type": "code",
   "execution_count": 11,
   "metadata": {},
   "outputs": [],
   "source": [
    "# 1. 파일에 직접 쓰기 \n",
    "# JSON data를 file에 wrtie 하기 \n",
    "with open('data.json', 'w') as file:\n",
    "    json.dump(data, file)"
   ]
  },
  {
   "cell_type": "code",
   "execution_count": 12,
   "metadata": {},
   "outputs": [
    {
     "name": "stdout",
     "output_type": "stream",
     "text": [
      "{\"fruit\": [\"banana\", \"apple\"], \"store\": \"burwood\", \"sales\": 50000}\n",
      "<class 'str'>\n",
      "{'fruit': ['banana', 'apple'], 'store': 'burwood', 'sales': 50000}\n",
      "<class 'dict'>\n"
     ]
    }
   ],
   "source": [
    "# 2. 문자열로 직렬화하여 반환 (JSON 데이터 읽어오기)\n",
    "json_string = json.dumps(data)\n",
    "print(json_string)\n",
    "print(type(json_string))\n",
    "print(data)\n",
    "print(type(data))"
   ]
  },
  {
   "cell_type": "code",
   "execution_count": 13,
   "metadata": {},
   "outputs": [],
   "source": [
    "# 2 반환한 문자열을 파일에 쓰기\n",
    "with open('data-string.json', 'w') as file:\n",
    "    file.write(json_string)\n"
   ]
  }
 ],
 "metadata": {
  "kernelspec": {
   "display_name": "test",
   "language": "python",
   "name": "python3"
  },
  "language_info": {
   "codemirror_mode": {
    "name": "ipython",
    "version": 3
   },
   "file_extension": ".py",
   "mimetype": "text/x-python",
   "name": "python",
   "nbconvert_exporter": "python",
   "pygments_lexer": "ipython3",
   "version": "3.11.5"
  }
 },
 "nbformat": 4,
 "nbformat_minor": 2
}
